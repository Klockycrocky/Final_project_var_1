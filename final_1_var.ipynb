{
 "cells": [
  {
   "cell_type": "code",
   "execution_count": 1,
   "metadata": {},
   "outputs": [],
   "source": [
    "import pandas as pd\n",
    "import numpy as np\n",
    "import seaborn as sns\n",
    "import datetime as dt\n",
    "import requests \n",
    "from urllib.parse import urlencode\n",
    "import statsmodels.stats.api as sms\n",
    "from  scipy.stats import chi2_contingency\n",
    "from statsmodels.stats.proportion import proportions_ztest\n",
    "from scipy.stats import ttest_ind\n",
    "from scipy import stats\n",
    "from tqdm.auto import tqdm\n",
    "from scipy.stats import norm\n",
    "import matplotlib.pyplot as plt\n",
    "sns.set(\n",
    "    font_scale = 2,\n",
    "    style       =\"whitegrid\",\n",
    "    rc          ={'figure.figsize':(20, 7)}\n",
    ")"
   ]
  },
  {
   "cell_type": "code",
   "execution_count": 2,
   "metadata": {},
   "outputs": [],
   "source": [
    "reg_data = pd.read_csv('~/shared/problem1-reg_data.csv', sep=';')\n",
    "auth_data = pd.read_csv('~/shared/problem1-auth_data.csv', sep=';')"
   ]
  },
  {
   "cell_type": "code",
   "execution_count": 3,
   "metadata": {},
   "outputs": [
    {
     "data": {
      "text/html": [
       "<div>\n",
       "<style scoped>\n",
       "    .dataframe tbody tr th:only-of-type {\n",
       "        vertical-align: middle;\n",
       "    }\n",
       "\n",
       "    .dataframe tbody tr th {\n",
       "        vertical-align: top;\n",
       "    }\n",
       "\n",
       "    .dataframe thead th {\n",
       "        text-align: right;\n",
       "    }\n",
       "</style>\n",
       "<table border=\"1\" class=\"dataframe\">\n",
       "  <thead>\n",
       "    <tr style=\"text-align: right;\">\n",
       "      <th></th>\n",
       "      <th>reg_ts</th>\n",
       "      <th>uid</th>\n",
       "    </tr>\n",
       "  </thead>\n",
       "  <tbody>\n",
       "    <tr>\n",
       "      <th>0</th>\n",
       "      <td>911382223</td>\n",
       "      <td>1</td>\n",
       "    </tr>\n",
       "    <tr>\n",
       "      <th>1</th>\n",
       "      <td>932683089</td>\n",
       "      <td>2</td>\n",
       "    </tr>\n",
       "    <tr>\n",
       "      <th>2</th>\n",
       "      <td>947802447</td>\n",
       "      <td>3</td>\n",
       "    </tr>\n",
       "    <tr>\n",
       "      <th>3</th>\n",
       "      <td>959523541</td>\n",
       "      <td>4</td>\n",
       "    </tr>\n",
       "    <tr>\n",
       "      <th>4</th>\n",
       "      <td>969103313</td>\n",
       "      <td>5</td>\n",
       "    </tr>\n",
       "  </tbody>\n",
       "</table>\n",
       "</div>"
      ],
      "text/plain": [
       "      reg_ts  uid\n",
       "0  911382223    1\n",
       "1  932683089    2\n",
       "2  947802447    3\n",
       "3  959523541    4\n",
       "4  969103313    5"
      ]
     },
     "execution_count": 3,
     "metadata": {},
     "output_type": "execute_result"
    }
   ],
   "source": [
    "reg_data.head()"
   ]
  },
  {
   "cell_type": "code",
   "execution_count": 4,
   "metadata": {},
   "outputs": [
    {
     "data": {
      "text/html": [
       "<div>\n",
       "<style scoped>\n",
       "    .dataframe tbody tr th:only-of-type {\n",
       "        vertical-align: middle;\n",
       "    }\n",
       "\n",
       "    .dataframe tbody tr th {\n",
       "        vertical-align: top;\n",
       "    }\n",
       "\n",
       "    .dataframe thead th {\n",
       "        text-align: right;\n",
       "    }\n",
       "</style>\n",
       "<table border=\"1\" class=\"dataframe\">\n",
       "  <thead>\n",
       "    <tr style=\"text-align: right;\">\n",
       "      <th></th>\n",
       "      <th>auth_ts</th>\n",
       "      <th>uid</th>\n",
       "    </tr>\n",
       "  </thead>\n",
       "  <tbody>\n",
       "    <tr>\n",
       "      <th>0</th>\n",
       "      <td>911382223</td>\n",
       "      <td>1</td>\n",
       "    </tr>\n",
       "    <tr>\n",
       "      <th>1</th>\n",
       "      <td>932683089</td>\n",
       "      <td>2</td>\n",
       "    </tr>\n",
       "    <tr>\n",
       "      <th>2</th>\n",
       "      <td>932921206</td>\n",
       "      <td>2</td>\n",
       "    </tr>\n",
       "    <tr>\n",
       "      <th>3</th>\n",
       "      <td>933393015</td>\n",
       "      <td>2</td>\n",
       "    </tr>\n",
       "    <tr>\n",
       "      <th>4</th>\n",
       "      <td>933875379</td>\n",
       "      <td>2</td>\n",
       "    </tr>\n",
       "  </tbody>\n",
       "</table>\n",
       "</div>"
      ],
      "text/plain": [
       "     auth_ts  uid\n",
       "0  911382223    1\n",
       "1  932683089    2\n",
       "2  932921206    2\n",
       "3  933393015    2\n",
       "4  933875379    2"
      ]
     },
     "execution_count": 4,
     "metadata": {},
     "output_type": "execute_result"
    }
   ],
   "source": [
    "auth_data.head()"
   ]
  },
  {
   "cell_type": "code",
   "execution_count": 5,
   "metadata": {},
   "outputs": [
    {
     "data": {
      "text/plain": [
       "1000000"
      ]
     },
     "execution_count": 5,
     "metadata": {},
     "output_type": "execute_result"
    }
   ],
   "source": [
    "len(reg_data)"
   ]
  },
  {
   "cell_type": "code",
   "execution_count": 6,
   "metadata": {},
   "outputs": [
    {
     "data": {
      "text/plain": [
       "9601013"
      ]
     },
     "execution_count": 6,
     "metadata": {},
     "output_type": "execute_result"
    }
   ],
   "source": [
    "len(auth_data)"
   ]
  },
  {
   "cell_type": "markdown",
   "metadata": {},
   "source": [
    "Проверим дубли и были ли повторные регистрации одного и того же пользователя\n",
    "Вывод: полных дублей нет, каждый пользователь регистрировался по одному разу"
   ]
  },
  {
   "cell_type": "code",
   "execution_count": 7,
   "metadata": {},
   "outputs": [
    {
     "name": "stdout",
     "output_type": "stream",
     "text": [
      "0\n",
      "0\n"
     ]
    }
   ],
   "source": [
    "a = [reg_data, auth_data]\n",
    "for i in a:\n",
    "    print(i.duplicated().sum())"
   ]
  },
  {
   "cell_type": "code",
   "execution_count": 8,
   "metadata": {},
   "outputs": [
    {
     "data": {
      "text/html": [
       "<div>\n",
       "<style scoped>\n",
       "    .dataframe tbody tr th:only-of-type {\n",
       "        vertical-align: middle;\n",
       "    }\n",
       "\n",
       "    .dataframe tbody tr th {\n",
       "        vertical-align: top;\n",
       "    }\n",
       "\n",
       "    .dataframe thead th {\n",
       "        text-align: right;\n",
       "    }\n",
       "</style>\n",
       "<table border=\"1\" class=\"dataframe\">\n",
       "  <thead>\n",
       "    <tr style=\"text-align: right;\">\n",
       "      <th></th>\n",
       "      <th>uid</th>\n",
       "      <th>reg_ts</th>\n",
       "    </tr>\n",
       "  </thead>\n",
       "  <tbody>\n",
       "  </tbody>\n",
       "</table>\n",
       "</div>"
      ],
      "text/plain": [
       "Empty DataFrame\n",
       "Columns: [uid, reg_ts]\n",
       "Index: []"
      ]
     },
     "execution_count": 8,
     "metadata": {},
     "output_type": "execute_result"
    }
   ],
   "source": [
    "# в целом все понятно и на этапе отсутствия дублей, но на всякий случай\n",
    "reg_data.groupby('uid', as_index = False).reg_ts.nunique().query('reg_ts != 1')"
   ]
  },
  {
   "cell_type": "markdown",
   "metadata": {},
   "source": [
    "проверим, были ли регистрации в одно и тоже время вплоть до секунды - если бы были и их было бы много, можно было бы предположить наличие бага и что это на самом деле один и тот же пользователь \n",
    "Вывод: подобный баг не обнаружен"
   ]
  },
  {
   "cell_type": "code",
   "execution_count": 9,
   "metadata": {},
   "outputs": [
    {
     "data": {
      "text/plain": [
       "True"
      ]
     },
     "execution_count": 9,
     "metadata": {},
     "output_type": "execute_result"
    }
   ],
   "source": [
    "reg_data.reg_ts.nunique() == len(reg_data)"
   ]
  },
  {
   "cell_type": "markdown",
   "metadata": {},
   "source": [
    "Сджоиним таблицы (inner). Если строк в новой таблице столько же, сколько в таблице с датами захода в игру - значит left join не нужен"
   ]
  },
  {
   "cell_type": "code",
   "execution_count": 10,
   "metadata": {},
   "outputs": [
    {
     "data": {
      "text/plain": [
       "True"
      ]
     },
     "execution_count": 10,
     "metadata": {},
     "output_type": "execute_result"
    }
   ],
   "source": [
    "full = reg_data.merge(auth_data, how = 'inner', on = 'uid')\n",
    "len(full) == len(auth_data)"
   ]
  },
  {
   "cell_type": "markdown",
   "metadata": {},
   "source": [
    "нет ли Null? нет"
   ]
  },
  {
   "cell_type": "code",
   "execution_count": 11,
   "metadata": {},
   "outputs": [
    {
     "data": {
      "text/plain": [
       "reg_ts     0\n",
       "uid        0\n",
       "auth_ts    0\n",
       "dtype: int64"
      ]
     },
     "execution_count": 11,
     "metadata": {},
     "output_type": "execute_result"
    }
   ],
   "source": [
    "full.isna().sum()"
   ]
  },
  {
   "cell_type": "markdown",
   "metadata": {},
   "source": [
    "Переведем вермя в приемлемый формат"
   ]
  },
  {
   "cell_type": "code",
   "execution_count": 12,
   "metadata": {},
   "outputs": [],
   "source": [
    "full[['reg_ts', 'auth_ts']] = full[['reg_ts', 'auth_ts']].apply(pd.to_datetime, unit='s')"
   ]
  },
  {
   "cell_type": "code",
   "execution_count": 13,
   "metadata": {},
   "outputs": [
    {
     "data": {
      "text/plain": [
       "reg_ts     datetime64[ns]\n",
       "uid                 int64\n",
       "auth_ts    datetime64[ns]\n",
       "dtype: object"
      ]
     },
     "execution_count": 13,
     "metadata": {},
     "output_type": "execute_result"
    }
   ],
   "source": [
    "full.dtypes"
   ]
  },
  {
   "cell_type": "code",
   "execution_count": 14,
   "metadata": {},
   "outputs": [
    {
     "data": {
      "text/html": [
       "<div>\n",
       "<style scoped>\n",
       "    .dataframe tbody tr th:only-of-type {\n",
       "        vertical-align: middle;\n",
       "    }\n",
       "\n",
       "    .dataframe tbody tr th {\n",
       "        vertical-align: top;\n",
       "    }\n",
       "\n",
       "    .dataframe thead th {\n",
       "        text-align: right;\n",
       "    }\n",
       "</style>\n",
       "<table border=\"1\" class=\"dataframe\">\n",
       "  <thead>\n",
       "    <tr style=\"text-align: right;\">\n",
       "      <th></th>\n",
       "      <th>reg_ts</th>\n",
       "      <th>uid</th>\n",
       "      <th>auth_ts</th>\n",
       "    </tr>\n",
       "  </thead>\n",
       "  <tbody>\n",
       "    <tr>\n",
       "      <th>0</th>\n",
       "      <td>1998-11-18 09:43:43</td>\n",
       "      <td>1</td>\n",
       "      <td>1998-11-18 09:43:43</td>\n",
       "    </tr>\n",
       "    <tr>\n",
       "      <th>1</th>\n",
       "      <td>1999-07-22 22:38:09</td>\n",
       "      <td>2</td>\n",
       "      <td>1999-07-22 22:38:09</td>\n",
       "    </tr>\n",
       "    <tr>\n",
       "      <th>2</th>\n",
       "      <td>1999-07-22 22:38:09</td>\n",
       "      <td>2</td>\n",
       "      <td>1999-07-25 16:46:46</td>\n",
       "    </tr>\n",
       "    <tr>\n",
       "      <th>3</th>\n",
       "      <td>1999-07-22 22:38:09</td>\n",
       "      <td>2</td>\n",
       "      <td>1999-07-31 03:50:15</td>\n",
       "    </tr>\n",
       "    <tr>\n",
       "      <th>4</th>\n",
       "      <td>1999-07-22 22:38:09</td>\n",
       "      <td>2</td>\n",
       "      <td>1999-08-05 17:49:39</td>\n",
       "    </tr>\n",
       "  </tbody>\n",
       "</table>\n",
       "</div>"
      ],
      "text/plain": [
       "               reg_ts  uid             auth_ts\n",
       "0 1998-11-18 09:43:43    1 1998-11-18 09:43:43\n",
       "1 1999-07-22 22:38:09    2 1999-07-22 22:38:09\n",
       "2 1999-07-22 22:38:09    2 1999-07-25 16:46:46\n",
       "3 1999-07-22 22:38:09    2 1999-07-31 03:50:15\n",
       "4 1999-07-22 22:38:09    2 1999-08-05 17:49:39"
      ]
     },
     "execution_count": 14,
     "metadata": {},
     "output_type": "execute_result"
    }
   ],
   "source": [
    "full.head()"
   ]
  },
  {
   "cell_type": "markdown",
   "metadata": {},
   "source": [
    "Посмотрим минимальное и максимальное вермя регистарции и время захода в игру.\n",
    "Вывод: Регистрация происходит при заходе в игру или во всяком случае момент регистрации = момента первого захода в игру"
   ]
  },
  {
   "cell_type": "code",
   "execution_count": 15,
   "metadata": {},
   "outputs": [
    {
     "name": "stdout",
     "output_type": "stream",
     "text": [
      "минимальная и максимальная дата и время регистрации: (Timestamp('1998-11-18 09:43:43'), Timestamp('2020-09-23 15:17:24'))\n",
      "минимальная и максимальная дата и время захода в игру:  (Timestamp('1998-11-18 09:43:43'), Timestamp('2020-09-23 15:17:24'))\n"
     ]
    }
   ],
   "source": [
    "def min_max(x):\n",
    "    return(x.min(), x.max())\n",
    "\n",
    "print('минимальная и максимальная дата и время регистрации:', min_max(full.reg_ts))\n",
    "print('минимальная и максимальная дата и время захода в игру: ', min_max(full.auth_ts))"
   ]
  },
  {
   "cell_type": "code",
   "execution_count": 16,
   "metadata": {},
   "outputs": [
    {
     "data": {
      "text/plain": [
       "True"
      ]
     },
     "execution_count": 16,
     "metadata": {},
     "output_type": "execute_result"
    }
   ],
   "source": [
    "# теория подтверждена\n",
    "len(full.query('reg_ts == auth_ts')) == len(reg_data)"
   ]
  },
  {
   "cell_type": "markdown",
   "metadata": {},
   "source": [
    "## Приступаем к заданиям\n",
    "## Задание 1\n",
    "### Retention – один из самых важных показателей в компании. Ваша задача – написать функцию, которая будет считать retention игроков (по дням от даты регистрации игрока)"
   ]
  },
  {
   "cell_type": "markdown",
   "metadata": {},
   "source": [
    "Прежде, чем написать функцию, выполню задание/часть задания без нее. Создадим колонки с датами без времени"
   ]
  },
  {
   "cell_type": "code",
   "execution_count": 17,
   "metadata": {},
   "outputs": [],
   "source": [
    "full['reg_ts_d'] = full.reg_ts.dt.date\n",
    "full['auth_ts_d'] = full.auth_ts.dt.date"
   ]
  },
  {
   "cell_type": "code",
   "execution_count": 18,
   "metadata": {},
   "outputs": [
    {
     "data": {
      "text/html": [
       "<div>\n",
       "<style scoped>\n",
       "    .dataframe tbody tr th:only-of-type {\n",
       "        vertical-align: middle;\n",
       "    }\n",
       "\n",
       "    .dataframe tbody tr th {\n",
       "        vertical-align: top;\n",
       "    }\n",
       "\n",
       "    .dataframe thead th {\n",
       "        text-align: right;\n",
       "    }\n",
       "</style>\n",
       "<table border=\"1\" class=\"dataframe\">\n",
       "  <thead>\n",
       "    <tr style=\"text-align: right;\">\n",
       "      <th></th>\n",
       "      <th>reg_ts_d</th>\n",
       "      <th>auth_ts_d</th>\n",
       "      <th>uid_nunique</th>\n",
       "    </tr>\n",
       "  </thead>\n",
       "  <tbody>\n",
       "    <tr>\n",
       "      <th>0</th>\n",
       "      <td>1998-11-18</td>\n",
       "      <td>1998-11-18</td>\n",
       "      <td>1</td>\n",
       "    </tr>\n",
       "    <tr>\n",
       "      <th>1</th>\n",
       "      <td>1999-07-22</td>\n",
       "      <td>1999-07-22</td>\n",
       "      <td>1</td>\n",
       "    </tr>\n",
       "    <tr>\n",
       "      <th>2</th>\n",
       "      <td>1999-07-22</td>\n",
       "      <td>1999-07-25</td>\n",
       "      <td>1</td>\n",
       "    </tr>\n",
       "    <tr>\n",
       "      <th>3</th>\n",
       "      <td>1999-07-22</td>\n",
       "      <td>1999-07-31</td>\n",
       "      <td>1</td>\n",
       "    </tr>\n",
       "    <tr>\n",
       "      <th>4</th>\n",
       "      <td>1999-07-22</td>\n",
       "      <td>1999-08-05</td>\n",
       "      <td>1</td>\n",
       "    </tr>\n",
       "  </tbody>\n",
       "</table>\n",
       "</div>"
      ],
      "text/plain": [
       "     reg_ts_d   auth_ts_d  uid_nunique\n",
       "0  1998-11-18  1998-11-18            1\n",
       "1  1999-07-22  1999-07-22            1\n",
       "2  1999-07-22  1999-07-25            1\n",
       "3  1999-07-22  1999-07-31            1\n",
       "4  1999-07-22  1999-08-05            1"
      ]
     },
     "execution_count": 18,
     "metadata": {},
     "output_type": "execute_result"
    }
   ],
   "source": [
    "\n",
    "full_for_cohort = full.groupby(['reg_ts_d', 'auth_ts_d'], as_index=False).agg(uid_nunique=('uid', 'nunique'))\n",
    "full_for_cohort.head()"
   ]
  },
  {
   "cell_type": "code",
   "execution_count": 19,
   "metadata": {},
   "outputs": [],
   "source": [
    "full_for_cohort['reg_ts_d'] = pd.to_datetime(full_for_cohort.reg_ts_d, format = '%Y-%m-%d')\n",
    "full_for_cohort['auth_ts_d'] = pd.to_datetime(full_for_cohort.auth_ts_d, format = '%Y-%m-%d')"
   ]
  },
  {
   "cell_type": "markdown",
   "metadata": {},
   "source": [
    "Т.к данных очень много, для примера возьмем зарегившихся за последние 10 дней и посмотрим их ретенш. Мы уже знаем, что последняя дата регистрации и, соответственно, входа - 2020-09-23."
   ]
  },
  {
   "cell_type": "code",
   "execution_count": 20,
   "metadata": {},
   "outputs": [
    {
     "data": {
      "text/html": [
       "<div>\n",
       "<style scoped>\n",
       "    .dataframe tbody tr th:only-of-type {\n",
       "        vertical-align: middle;\n",
       "    }\n",
       "\n",
       "    .dataframe tbody tr th {\n",
       "        vertical-align: top;\n",
       "    }\n",
       "\n",
       "    .dataframe thead th {\n",
       "        text-align: right;\n",
       "    }\n",
       "</style>\n",
       "<table border=\"1\" class=\"dataframe\">\n",
       "  <thead>\n",
       "    <tr style=\"text-align: right;\">\n",
       "      <th></th>\n",
       "      <th>reg_ts_d</th>\n",
       "      <th>auth_ts_d</th>\n",
       "      <th>uid_nunique</th>\n",
       "    </tr>\n",
       "  </thead>\n",
       "  <tbody>\n",
       "    <tr>\n",
       "      <th>2716162</th>\n",
       "      <td>2020-09-13</td>\n",
       "      <td>2020-09-13</td>\n",
       "      <td>1618</td>\n",
       "    </tr>\n",
       "    <tr>\n",
       "      <th>2716163</th>\n",
       "      <td>2020-09-13</td>\n",
       "      <td>2020-09-14</td>\n",
       "      <td>32</td>\n",
       "    </tr>\n",
       "    <tr>\n",
       "      <th>2716164</th>\n",
       "      <td>2020-09-13</td>\n",
       "      <td>2020-09-15</td>\n",
       "      <td>66</td>\n",
       "    </tr>\n",
       "    <tr>\n",
       "      <th>2716165</th>\n",
       "      <td>2020-09-13</td>\n",
       "      <td>2020-09-16</td>\n",
       "      <td>69</td>\n",
       "    </tr>\n",
       "    <tr>\n",
       "      <th>2716166</th>\n",
       "      <td>2020-09-13</td>\n",
       "      <td>2020-09-17</td>\n",
       "      <td>83</td>\n",
       "    </tr>\n",
       "    <tr>\n",
       "      <th>...</th>\n",
       "      <td>...</td>\n",
       "      <td>...</td>\n",
       "      <td>...</td>\n",
       "    </tr>\n",
       "    <tr>\n",
       "      <th>2716223</th>\n",
       "      <td>2020-09-21</td>\n",
       "      <td>2020-09-22</td>\n",
       "      <td>31</td>\n",
       "    </tr>\n",
       "    <tr>\n",
       "      <th>2716224</th>\n",
       "      <td>2020-09-21</td>\n",
       "      <td>2020-09-23</td>\n",
       "      <td>49</td>\n",
       "    </tr>\n",
       "    <tr>\n",
       "      <th>2716225</th>\n",
       "      <td>2020-09-22</td>\n",
       "      <td>2020-09-22</td>\n",
       "      <td>1641</td>\n",
       "    </tr>\n",
       "    <tr>\n",
       "      <th>2716226</th>\n",
       "      <td>2020-09-22</td>\n",
       "      <td>2020-09-23</td>\n",
       "      <td>14</td>\n",
       "    </tr>\n",
       "    <tr>\n",
       "      <th>2716227</th>\n",
       "      <td>2020-09-23</td>\n",
       "      <td>2020-09-23</td>\n",
       "      <td>1048</td>\n",
       "    </tr>\n",
       "  </tbody>\n",
       "</table>\n",
       "<p>66 rows × 3 columns</p>\n",
       "</div>"
      ],
      "text/plain": [
       "          reg_ts_d  auth_ts_d  uid_nunique\n",
       "2716162 2020-09-13 2020-09-13         1618\n",
       "2716163 2020-09-13 2020-09-14           32\n",
       "2716164 2020-09-13 2020-09-15           66\n",
       "2716165 2020-09-13 2020-09-16           69\n",
       "2716166 2020-09-13 2020-09-17           83\n",
       "...            ...        ...          ...\n",
       "2716223 2020-09-21 2020-09-22           31\n",
       "2716224 2020-09-21 2020-09-23           49\n",
       "2716225 2020-09-22 2020-09-22         1641\n",
       "2716226 2020-09-22 2020-09-23           14\n",
       "2716227 2020-09-23 2020-09-23         1048\n",
       "\n",
       "[66 rows x 3 columns]"
      ]
     },
     "execution_count": 20,
     "metadata": {},
     "output_type": "execute_result"
    }
   ],
   "source": [
    "for_example_cohort = full_for_cohort.query('reg_ts_d >= \"2020-09-13\"').copy()\n",
    "for_example_cohort"
   ]
  },
  {
   "cell_type": "code",
   "execution_count": 21,
   "metadata": {},
   "outputs": [],
   "source": [
    "for_example_cohort['lifetime'] = ((for_example_cohort.auth_ts_d - for_example_cohort.reg_ts_d)/np.timedelta64(1, 'D')).round().astype(int)"
   ]
  },
  {
   "cell_type": "code",
   "execution_count": 22,
   "metadata": {},
   "outputs": [
    {
     "data": {
      "text/html": [
       "<div>\n",
       "<style scoped>\n",
       "    .dataframe tbody tr th:only-of-type {\n",
       "        vertical-align: middle;\n",
       "    }\n",
       "\n",
       "    .dataframe tbody tr th {\n",
       "        vertical-align: top;\n",
       "    }\n",
       "\n",
       "    .dataframe thead th {\n",
       "        text-align: right;\n",
       "    }\n",
       "</style>\n",
       "<table border=\"1\" class=\"dataframe\">\n",
       "  <thead>\n",
       "    <tr style=\"text-align: right;\">\n",
       "      <th></th>\n",
       "      <th>reg_ts_d</th>\n",
       "      <th>auth_ts_d</th>\n",
       "      <th>uid_nunique</th>\n",
       "      <th>lifetime</th>\n",
       "    </tr>\n",
       "  </thead>\n",
       "  <tbody>\n",
       "    <tr>\n",
       "      <th>2716162</th>\n",
       "      <td>2020-09-13</td>\n",
       "      <td>2020-09-13</td>\n",
       "      <td>1618</td>\n",
       "      <td>0</td>\n",
       "    </tr>\n",
       "    <tr>\n",
       "      <th>2716163</th>\n",
       "      <td>2020-09-13</td>\n",
       "      <td>2020-09-14</td>\n",
       "      <td>32</td>\n",
       "      <td>1</td>\n",
       "    </tr>\n",
       "    <tr>\n",
       "      <th>2716164</th>\n",
       "      <td>2020-09-13</td>\n",
       "      <td>2020-09-15</td>\n",
       "      <td>66</td>\n",
       "      <td>2</td>\n",
       "    </tr>\n",
       "    <tr>\n",
       "      <th>2716165</th>\n",
       "      <td>2020-09-13</td>\n",
       "      <td>2020-09-16</td>\n",
       "      <td>69</td>\n",
       "      <td>3</td>\n",
       "    </tr>\n",
       "    <tr>\n",
       "      <th>2716166</th>\n",
       "      <td>2020-09-13</td>\n",
       "      <td>2020-09-17</td>\n",
       "      <td>83</td>\n",
       "      <td>4</td>\n",
       "    </tr>\n",
       "    <tr>\n",
       "      <th>...</th>\n",
       "      <td>...</td>\n",
       "      <td>...</td>\n",
       "      <td>...</td>\n",
       "      <td>...</td>\n",
       "    </tr>\n",
       "    <tr>\n",
       "      <th>2716223</th>\n",
       "      <td>2020-09-21</td>\n",
       "      <td>2020-09-22</td>\n",
       "      <td>31</td>\n",
       "      <td>1</td>\n",
       "    </tr>\n",
       "    <tr>\n",
       "      <th>2716224</th>\n",
       "      <td>2020-09-21</td>\n",
       "      <td>2020-09-23</td>\n",
       "      <td>49</td>\n",
       "      <td>2</td>\n",
       "    </tr>\n",
       "    <tr>\n",
       "      <th>2716225</th>\n",
       "      <td>2020-09-22</td>\n",
       "      <td>2020-09-22</td>\n",
       "      <td>1641</td>\n",
       "      <td>0</td>\n",
       "    </tr>\n",
       "    <tr>\n",
       "      <th>2716226</th>\n",
       "      <td>2020-09-22</td>\n",
       "      <td>2020-09-23</td>\n",
       "      <td>14</td>\n",
       "      <td>1</td>\n",
       "    </tr>\n",
       "    <tr>\n",
       "      <th>2716227</th>\n",
       "      <td>2020-09-23</td>\n",
       "      <td>2020-09-23</td>\n",
       "      <td>1048</td>\n",
       "      <td>0</td>\n",
       "    </tr>\n",
       "  </tbody>\n",
       "</table>\n",
       "<p>66 rows × 4 columns</p>\n",
       "</div>"
      ],
      "text/plain": [
       "          reg_ts_d  auth_ts_d  uid_nunique  lifetime\n",
       "2716162 2020-09-13 2020-09-13         1618         0\n",
       "2716163 2020-09-13 2020-09-14           32         1\n",
       "2716164 2020-09-13 2020-09-15           66         2\n",
       "2716165 2020-09-13 2020-09-16           69         3\n",
       "2716166 2020-09-13 2020-09-17           83         4\n",
       "...            ...        ...          ...       ...\n",
       "2716223 2020-09-21 2020-09-22           31         1\n",
       "2716224 2020-09-21 2020-09-23           49         2\n",
       "2716225 2020-09-22 2020-09-22         1641         0\n",
       "2716226 2020-09-22 2020-09-23           14         1\n",
       "2716227 2020-09-23 2020-09-23         1048         0\n",
       "\n",
       "[66 rows x 4 columns]"
      ]
     },
     "execution_count": 22,
     "metadata": {},
     "output_type": "execute_result"
    }
   ],
   "source": [
    "for_example_cohort"
   ]
  },
  {
   "cell_type": "code",
   "execution_count": 23,
   "metadata": {},
   "outputs": [
    {
     "data": {
      "text/html": [
       "<div>\n",
       "<style scoped>\n",
       "    .dataframe tbody tr th:only-of-type {\n",
       "        vertical-align: middle;\n",
       "    }\n",
       "\n",
       "    .dataframe tbody tr th {\n",
       "        vertical-align: top;\n",
       "    }\n",
       "\n",
       "    .dataframe thead th {\n",
       "        text-align: right;\n",
       "    }\n",
       "</style>\n",
       "<table border=\"1\" class=\"dataframe\">\n",
       "  <thead>\n",
       "    <tr style=\"text-align: right;\">\n",
       "      <th>lifetime</th>\n",
       "      <th>0</th>\n",
       "      <th>1</th>\n",
       "      <th>2</th>\n",
       "      <th>3</th>\n",
       "      <th>4</th>\n",
       "      <th>5</th>\n",
       "      <th>6</th>\n",
       "      <th>7</th>\n",
       "      <th>8</th>\n",
       "      <th>9</th>\n",
       "      <th>10</th>\n",
       "    </tr>\n",
       "    <tr>\n",
       "      <th>reg_ts_d</th>\n",
       "      <th></th>\n",
       "      <th></th>\n",
       "      <th></th>\n",
       "      <th></th>\n",
       "      <th></th>\n",
       "      <th></th>\n",
       "      <th></th>\n",
       "      <th></th>\n",
       "      <th></th>\n",
       "      <th></th>\n",
       "      <th></th>\n",
       "    </tr>\n",
       "  </thead>\n",
       "  <tbody>\n",
       "    <tr>\n",
       "      <th>2020-09-13</th>\n",
       "      <td>1618.0</td>\n",
       "      <td>32.0</td>\n",
       "      <td>66.0</td>\n",
       "      <td>69.0</td>\n",
       "      <td>83.0</td>\n",
       "      <td>106.0</td>\n",
       "      <td>105.0</td>\n",
       "      <td>80.0</td>\n",
       "      <td>76.0</td>\n",
       "      <td>80.0</td>\n",
       "      <td>58.0</td>\n",
       "    </tr>\n",
       "    <tr>\n",
       "      <th>2020-09-14</th>\n",
       "      <td>1619.0</td>\n",
       "      <td>36.0</td>\n",
       "      <td>62.0</td>\n",
       "      <td>73.0</td>\n",
       "      <td>86.0</td>\n",
       "      <td>105.0</td>\n",
       "      <td>113.0</td>\n",
       "      <td>102.0</td>\n",
       "      <td>72.0</td>\n",
       "      <td>47.0</td>\n",
       "      <td>NaN</td>\n",
       "    </tr>\n",
       "    <tr>\n",
       "      <th>2020-09-15</th>\n",
       "      <td>1623.0</td>\n",
       "      <td>36.0</td>\n",
       "      <td>66.0</td>\n",
       "      <td>74.0</td>\n",
       "      <td>98.0</td>\n",
       "      <td>91.0</td>\n",
       "      <td>112.0</td>\n",
       "      <td>92.0</td>\n",
       "      <td>40.0</td>\n",
       "      <td>NaN</td>\n",
       "      <td>NaN</td>\n",
       "    </tr>\n",
       "    <tr>\n",
       "      <th>2020-09-16</th>\n",
       "      <td>1625.0</td>\n",
       "      <td>31.0</td>\n",
       "      <td>69.0</td>\n",
       "      <td>75.0</td>\n",
       "      <td>76.0</td>\n",
       "      <td>110.0</td>\n",
       "      <td>113.0</td>\n",
       "      <td>55.0</td>\n",
       "      <td>NaN</td>\n",
       "      <td>NaN</td>\n",
       "      <td>NaN</td>\n",
       "    </tr>\n",
       "    <tr>\n",
       "      <th>2020-09-17</th>\n",
       "      <td>1628.0</td>\n",
       "      <td>27.0</td>\n",
       "      <td>70.0</td>\n",
       "      <td>74.0</td>\n",
       "      <td>89.0</td>\n",
       "      <td>102.0</td>\n",
       "      <td>69.0</td>\n",
       "      <td>NaN</td>\n",
       "      <td>NaN</td>\n",
       "      <td>NaN</td>\n",
       "      <td>NaN</td>\n",
       "    </tr>\n",
       "    <tr>\n",
       "      <th>2020-09-18</th>\n",
       "      <td>1630.0</td>\n",
       "      <td>31.0</td>\n",
       "      <td>74.0</td>\n",
       "      <td>69.0</td>\n",
       "      <td>85.0</td>\n",
       "      <td>61.0</td>\n",
       "      <td>NaN</td>\n",
       "      <td>NaN</td>\n",
       "      <td>NaN</td>\n",
       "      <td>NaN</td>\n",
       "      <td>NaN</td>\n",
       "    </tr>\n",
       "    <tr>\n",
       "      <th>2020-09-19</th>\n",
       "      <td>1634.0</td>\n",
       "      <td>30.0</td>\n",
       "      <td>58.0</td>\n",
       "      <td>77.0</td>\n",
       "      <td>57.0</td>\n",
       "      <td>NaN</td>\n",
       "      <td>NaN</td>\n",
       "      <td>NaN</td>\n",
       "      <td>NaN</td>\n",
       "      <td>NaN</td>\n",
       "      <td>NaN</td>\n",
       "    </tr>\n",
       "    <tr>\n",
       "      <th>2020-09-20</th>\n",
       "      <td>1636.0</td>\n",
       "      <td>40.0</td>\n",
       "      <td>71.0</td>\n",
       "      <td>39.0</td>\n",
       "      <td>NaN</td>\n",
       "      <td>NaN</td>\n",
       "      <td>NaN</td>\n",
       "      <td>NaN</td>\n",
       "      <td>NaN</td>\n",
       "      <td>NaN</td>\n",
       "      <td>NaN</td>\n",
       "    </tr>\n",
       "    <tr>\n",
       "      <th>2020-09-21</th>\n",
       "      <td>1638.0</td>\n",
       "      <td>31.0</td>\n",
       "      <td>49.0</td>\n",
       "      <td>NaN</td>\n",
       "      <td>NaN</td>\n",
       "      <td>NaN</td>\n",
       "      <td>NaN</td>\n",
       "      <td>NaN</td>\n",
       "      <td>NaN</td>\n",
       "      <td>NaN</td>\n",
       "      <td>NaN</td>\n",
       "    </tr>\n",
       "    <tr>\n",
       "      <th>2020-09-22</th>\n",
       "      <td>1641.0</td>\n",
       "      <td>14.0</td>\n",
       "      <td>NaN</td>\n",
       "      <td>NaN</td>\n",
       "      <td>NaN</td>\n",
       "      <td>NaN</td>\n",
       "      <td>NaN</td>\n",
       "      <td>NaN</td>\n",
       "      <td>NaN</td>\n",
       "      <td>NaN</td>\n",
       "      <td>NaN</td>\n",
       "    </tr>\n",
       "    <tr>\n",
       "      <th>2020-09-23</th>\n",
       "      <td>1048.0</td>\n",
       "      <td>NaN</td>\n",
       "      <td>NaN</td>\n",
       "      <td>NaN</td>\n",
       "      <td>NaN</td>\n",
       "      <td>NaN</td>\n",
       "      <td>NaN</td>\n",
       "      <td>NaN</td>\n",
       "      <td>NaN</td>\n",
       "      <td>NaN</td>\n",
       "      <td>NaN</td>\n",
       "    </tr>\n",
       "  </tbody>\n",
       "</table>\n",
       "</div>"
      ],
      "text/plain": [
       "lifetime        0     1     2     3     4      5      6      7     8     9   \\\n",
       "reg_ts_d                                                                      \n",
       "2020-09-13  1618.0  32.0  66.0  69.0  83.0  106.0  105.0   80.0  76.0  80.0   \n",
       "2020-09-14  1619.0  36.0  62.0  73.0  86.0  105.0  113.0  102.0  72.0  47.0   \n",
       "2020-09-15  1623.0  36.0  66.0  74.0  98.0   91.0  112.0   92.0  40.0   NaN   \n",
       "2020-09-16  1625.0  31.0  69.0  75.0  76.0  110.0  113.0   55.0   NaN   NaN   \n",
       "2020-09-17  1628.0  27.0  70.0  74.0  89.0  102.0   69.0    NaN   NaN   NaN   \n",
       "2020-09-18  1630.0  31.0  74.0  69.0  85.0   61.0    NaN    NaN   NaN   NaN   \n",
       "2020-09-19  1634.0  30.0  58.0  77.0  57.0    NaN    NaN    NaN   NaN   NaN   \n",
       "2020-09-20  1636.0  40.0  71.0  39.0   NaN    NaN    NaN    NaN   NaN   NaN   \n",
       "2020-09-21  1638.0  31.0  49.0   NaN   NaN    NaN    NaN    NaN   NaN   NaN   \n",
       "2020-09-22  1641.0  14.0   NaN   NaN   NaN    NaN    NaN    NaN   NaN   NaN   \n",
       "2020-09-23  1048.0   NaN   NaN   NaN   NaN    NaN    NaN    NaN   NaN   NaN   \n",
       "\n",
       "lifetime      10  \n",
       "reg_ts_d          \n",
       "2020-09-13  58.0  \n",
       "2020-09-14   NaN  \n",
       "2020-09-15   NaN  \n",
       "2020-09-16   NaN  \n",
       "2020-09-17   NaN  \n",
       "2020-09-18   NaN  \n",
       "2020-09-19   NaN  \n",
       "2020-09-20   NaN  \n",
       "2020-09-21   NaN  \n",
       "2020-09-22   NaN  \n",
       "2020-09-23   NaN  "
      ]
     },
     "execution_count": 23,
     "metadata": {},
     "output_type": "execute_result"
    }
   ],
   "source": [
    "cohort_pivot = for_example_cohort.pivot_table(index='reg_ts_d', columns='lifetime', values='uid_nunique')\n",
    "cohort_pivot"
   ]
  },
  {
   "cell_type": "code",
   "execution_count": 24,
   "metadata": {},
   "outputs": [
    {
     "data": {
      "text/html": [
       "<div>\n",
       "<style scoped>\n",
       "    .dataframe tbody tr th:only-of-type {\n",
       "        vertical-align: middle;\n",
       "    }\n",
       "\n",
       "    .dataframe tbody tr th {\n",
       "        vertical-align: top;\n",
       "    }\n",
       "\n",
       "    .dataframe thead th {\n",
       "        text-align: right;\n",
       "    }\n",
       "</style>\n",
       "<table border=\"1\" class=\"dataframe\">\n",
       "  <thead>\n",
       "    <tr style=\"text-align: right;\">\n",
       "      <th>lifetime</th>\n",
       "      <th>0</th>\n",
       "      <th>1</th>\n",
       "      <th>2</th>\n",
       "      <th>3</th>\n",
       "      <th>4</th>\n",
       "      <th>5</th>\n",
       "      <th>6</th>\n",
       "      <th>7</th>\n",
       "      <th>8</th>\n",
       "      <th>9</th>\n",
       "      <th>10</th>\n",
       "    </tr>\n",
       "    <tr>\n",
       "      <th>reg_ts_d</th>\n",
       "      <th></th>\n",
       "      <th></th>\n",
       "      <th></th>\n",
       "      <th></th>\n",
       "      <th></th>\n",
       "      <th></th>\n",
       "      <th></th>\n",
       "      <th></th>\n",
       "      <th></th>\n",
       "      <th></th>\n",
       "      <th></th>\n",
       "    </tr>\n",
       "  </thead>\n",
       "  <tbody>\n",
       "    <tr>\n",
       "      <th>2020-09-13</th>\n",
       "      <td>1.0</td>\n",
       "      <td>0.019778</td>\n",
       "      <td>0.040791</td>\n",
       "      <td>0.042645</td>\n",
       "      <td>0.051298</td>\n",
       "      <td>0.065513</td>\n",
       "      <td>0.064895</td>\n",
       "      <td>0.049444</td>\n",
       "      <td>0.046972</td>\n",
       "      <td>0.049444</td>\n",
       "      <td>0.035847</td>\n",
       "    </tr>\n",
       "    <tr>\n",
       "      <th>2020-09-14</th>\n",
       "      <td>1.0</td>\n",
       "      <td>0.022236</td>\n",
       "      <td>0.038295</td>\n",
       "      <td>0.045090</td>\n",
       "      <td>0.053119</td>\n",
       "      <td>0.064855</td>\n",
       "      <td>0.069796</td>\n",
       "      <td>0.063002</td>\n",
       "      <td>0.044472</td>\n",
       "      <td>0.029030</td>\n",
       "      <td>NaN</td>\n",
       "    </tr>\n",
       "    <tr>\n",
       "      <th>2020-09-15</th>\n",
       "      <td>1.0</td>\n",
       "      <td>0.022181</td>\n",
       "      <td>0.040665</td>\n",
       "      <td>0.045595</td>\n",
       "      <td>0.060382</td>\n",
       "      <td>0.056069</td>\n",
       "      <td>0.069008</td>\n",
       "      <td>0.056685</td>\n",
       "      <td>0.024646</td>\n",
       "      <td>NaN</td>\n",
       "      <td>NaN</td>\n",
       "    </tr>\n",
       "    <tr>\n",
       "      <th>2020-09-16</th>\n",
       "      <td>1.0</td>\n",
       "      <td>0.019077</td>\n",
       "      <td>0.042462</td>\n",
       "      <td>0.046154</td>\n",
       "      <td>0.046769</td>\n",
       "      <td>0.067692</td>\n",
       "      <td>0.069538</td>\n",
       "      <td>0.033846</td>\n",
       "      <td>NaN</td>\n",
       "      <td>NaN</td>\n",
       "      <td>NaN</td>\n",
       "    </tr>\n",
       "    <tr>\n",
       "      <th>2020-09-17</th>\n",
       "      <td>1.0</td>\n",
       "      <td>0.016585</td>\n",
       "      <td>0.042998</td>\n",
       "      <td>0.045455</td>\n",
       "      <td>0.054668</td>\n",
       "      <td>0.062654</td>\n",
       "      <td>0.042383</td>\n",
       "      <td>NaN</td>\n",
       "      <td>NaN</td>\n",
       "      <td>NaN</td>\n",
       "      <td>NaN</td>\n",
       "    </tr>\n",
       "    <tr>\n",
       "      <th>2020-09-18</th>\n",
       "      <td>1.0</td>\n",
       "      <td>0.019018</td>\n",
       "      <td>0.045399</td>\n",
       "      <td>0.042331</td>\n",
       "      <td>0.052147</td>\n",
       "      <td>0.037423</td>\n",
       "      <td>NaN</td>\n",
       "      <td>NaN</td>\n",
       "      <td>NaN</td>\n",
       "      <td>NaN</td>\n",
       "      <td>NaN</td>\n",
       "    </tr>\n",
       "    <tr>\n",
       "      <th>2020-09-19</th>\n",
       "      <td>1.0</td>\n",
       "      <td>0.018360</td>\n",
       "      <td>0.035496</td>\n",
       "      <td>0.047124</td>\n",
       "      <td>0.034884</td>\n",
       "      <td>NaN</td>\n",
       "      <td>NaN</td>\n",
       "      <td>NaN</td>\n",
       "      <td>NaN</td>\n",
       "      <td>NaN</td>\n",
       "      <td>NaN</td>\n",
       "    </tr>\n",
       "    <tr>\n",
       "      <th>2020-09-20</th>\n",
       "      <td>1.0</td>\n",
       "      <td>0.024450</td>\n",
       "      <td>0.043399</td>\n",
       "      <td>0.023839</td>\n",
       "      <td>NaN</td>\n",
       "      <td>NaN</td>\n",
       "      <td>NaN</td>\n",
       "      <td>NaN</td>\n",
       "      <td>NaN</td>\n",
       "      <td>NaN</td>\n",
       "      <td>NaN</td>\n",
       "    </tr>\n",
       "    <tr>\n",
       "      <th>2020-09-21</th>\n",
       "      <td>1.0</td>\n",
       "      <td>0.018926</td>\n",
       "      <td>0.029915</td>\n",
       "      <td>NaN</td>\n",
       "      <td>NaN</td>\n",
       "      <td>NaN</td>\n",
       "      <td>NaN</td>\n",
       "      <td>NaN</td>\n",
       "      <td>NaN</td>\n",
       "      <td>NaN</td>\n",
       "      <td>NaN</td>\n",
       "    </tr>\n",
       "    <tr>\n",
       "      <th>2020-09-22</th>\n",
       "      <td>1.0</td>\n",
       "      <td>0.008531</td>\n",
       "      <td>NaN</td>\n",
       "      <td>NaN</td>\n",
       "      <td>NaN</td>\n",
       "      <td>NaN</td>\n",
       "      <td>NaN</td>\n",
       "      <td>NaN</td>\n",
       "      <td>NaN</td>\n",
       "      <td>NaN</td>\n",
       "      <td>NaN</td>\n",
       "    </tr>\n",
       "    <tr>\n",
       "      <th>2020-09-23</th>\n",
       "      <td>1.0</td>\n",
       "      <td>NaN</td>\n",
       "      <td>NaN</td>\n",
       "      <td>NaN</td>\n",
       "      <td>NaN</td>\n",
       "      <td>NaN</td>\n",
       "      <td>NaN</td>\n",
       "      <td>NaN</td>\n",
       "      <td>NaN</td>\n",
       "      <td>NaN</td>\n",
       "      <td>NaN</td>\n",
       "    </tr>\n",
       "  </tbody>\n",
       "</table>\n",
       "</div>"
      ],
      "text/plain": [
       "lifetime     0         1         2         3         4         5         6   \\\n",
       "reg_ts_d                                                                      \n",
       "2020-09-13  1.0  0.019778  0.040791  0.042645  0.051298  0.065513  0.064895   \n",
       "2020-09-14  1.0  0.022236  0.038295  0.045090  0.053119  0.064855  0.069796   \n",
       "2020-09-15  1.0  0.022181  0.040665  0.045595  0.060382  0.056069  0.069008   \n",
       "2020-09-16  1.0  0.019077  0.042462  0.046154  0.046769  0.067692  0.069538   \n",
       "2020-09-17  1.0  0.016585  0.042998  0.045455  0.054668  0.062654  0.042383   \n",
       "2020-09-18  1.0  0.019018  0.045399  0.042331  0.052147  0.037423       NaN   \n",
       "2020-09-19  1.0  0.018360  0.035496  0.047124  0.034884       NaN       NaN   \n",
       "2020-09-20  1.0  0.024450  0.043399  0.023839       NaN       NaN       NaN   \n",
       "2020-09-21  1.0  0.018926  0.029915       NaN       NaN       NaN       NaN   \n",
       "2020-09-22  1.0  0.008531       NaN       NaN       NaN       NaN       NaN   \n",
       "2020-09-23  1.0       NaN       NaN       NaN       NaN       NaN       NaN   \n",
       "\n",
       "lifetime          7         8         9         10  \n",
       "reg_ts_d                                            \n",
       "2020-09-13  0.049444  0.046972  0.049444  0.035847  \n",
       "2020-09-14  0.063002  0.044472  0.029030       NaN  \n",
       "2020-09-15  0.056685  0.024646       NaN       NaN  \n",
       "2020-09-16  0.033846       NaN       NaN       NaN  \n",
       "2020-09-17       NaN       NaN       NaN       NaN  \n",
       "2020-09-18       NaN       NaN       NaN       NaN  \n",
       "2020-09-19       NaN       NaN       NaN       NaN  \n",
       "2020-09-20       NaN       NaN       NaN       NaN  \n",
       "2020-09-21       NaN       NaN       NaN       NaN  \n",
       "2020-09-22       NaN       NaN       NaN       NaN  \n",
       "2020-09-23       NaN       NaN       NaN       NaN  "
      ]
     },
     "execution_count": 24,
     "metadata": {},
     "output_type": "execute_result"
    }
   ],
   "source": [
    "cohort_main = cohort_pivot.iloc[:, 0]\n",
    "matrix = cohort_pivot.divide(cohort_main, axis = 0)\n",
    "matrix"
   ]
  },
  {
   "cell_type": "code",
   "execution_count": 25,
   "metadata": {},
   "outputs": [
    {
     "data": {
      "text/html": [
       "<style  type=\"text/css\" >\n",
       "#T_299ca69c_950e_11ed_bdbb_96000040dfb6row0_col0,#T_299ca69c_950e_11ed_bdbb_96000040dfb6row0_col10,#T_299ca69c_950e_11ed_bdbb_96000040dfb6row1_col0,#T_299ca69c_950e_11ed_bdbb_96000040dfb6row1_col9,#T_299ca69c_950e_11ed_bdbb_96000040dfb6row2_col0,#T_299ca69c_950e_11ed_bdbb_96000040dfb6row2_col8,#T_299ca69c_950e_11ed_bdbb_96000040dfb6row3_col0,#T_299ca69c_950e_11ed_bdbb_96000040dfb6row3_col7,#T_299ca69c_950e_11ed_bdbb_96000040dfb6row4_col0,#T_299ca69c_950e_11ed_bdbb_96000040dfb6row4_col6,#T_299ca69c_950e_11ed_bdbb_96000040dfb6row5_col0,#T_299ca69c_950e_11ed_bdbb_96000040dfb6row5_col5,#T_299ca69c_950e_11ed_bdbb_96000040dfb6row6_col0,#T_299ca69c_950e_11ed_bdbb_96000040dfb6row6_col4,#T_299ca69c_950e_11ed_bdbb_96000040dfb6row7_col0,#T_299ca69c_950e_11ed_bdbb_96000040dfb6row7_col3,#T_299ca69c_950e_11ed_bdbb_96000040dfb6row8_col0,#T_299ca69c_950e_11ed_bdbb_96000040dfb6row8_col2,#T_299ca69c_950e_11ed_bdbb_96000040dfb6row9_col0,#T_299ca69c_950e_11ed_bdbb_96000040dfb6row9_col1,#T_299ca69c_950e_11ed_bdbb_96000040dfb6row10_col0{\n",
       "            background-color:  #ffffd9;\n",
       "            color:  #000000;\n",
       "        }#T_299ca69c_950e_11ed_bdbb_96000040dfb6row0_col1{\n",
       "            background-color:  #2070b0;\n",
       "            color:  #f1f1f1;\n",
       "        }#T_299ca69c_950e_11ed_bdbb_96000040dfb6row0_col2{\n",
       "            background-color:  #2072b1;\n",
       "            color:  #f1f1f1;\n",
       "        }#T_299ca69c_950e_11ed_bdbb_96000040dfb6row0_col3{\n",
       "            background-color:  #234b9f;\n",
       "            color:  #f1f1f1;\n",
       "        }#T_299ca69c_950e_11ed_bdbb_96000040dfb6row0_col4{\n",
       "            background-color:  #1e8abd;\n",
       "            color:  #000000;\n",
       "        }#T_299ca69c_950e_11ed_bdbb_96000040dfb6row0_col5,#T_299ca69c_950e_11ed_bdbb_96000040dfb6row4_col3{\n",
       "            background-color:  #182a7a;\n",
       "            color:  #f1f1f1;\n",
       "        }#T_299ca69c_950e_11ed_bdbb_96000040dfb6row0_col6{\n",
       "            background-color:  #24459c;\n",
       "            color:  #f1f1f1;\n",
       "        }#T_299ca69c_950e_11ed_bdbb_96000040dfb6row0_col7{\n",
       "            background-color:  #37acc3;\n",
       "            color:  #000000;\n",
       "        }#T_299ca69c_950e_11ed_bdbb_96000040dfb6row0_col8,#T_299ca69c_950e_11ed_bdbb_96000040dfb6row0_col9,#T_299ca69c_950e_11ed_bdbb_96000040dfb6row1_col6,#T_299ca69c_950e_11ed_bdbb_96000040dfb6row1_col7,#T_299ca69c_950e_11ed_bdbb_96000040dfb6row2_col4,#T_299ca69c_950e_11ed_bdbb_96000040dfb6row3_col5,#T_299ca69c_950e_11ed_bdbb_96000040dfb6row5_col2,#T_299ca69c_950e_11ed_bdbb_96000040dfb6row6_col3,#T_299ca69c_950e_11ed_bdbb_96000040dfb6row7_col1{\n",
       "            background-color:  #081d58;\n",
       "            color:  #f1f1f1;\n",
       "        }#T_299ca69c_950e_11ed_bdbb_96000040dfb6row1_col1{\n",
       "            background-color:  #253896;\n",
       "            color:  #f1f1f1;\n",
       "        }#T_299ca69c_950e_11ed_bdbb_96000040dfb6row1_col2{\n",
       "            background-color:  #35aac3;\n",
       "            color:  #000000;\n",
       "        }#T_299ca69c_950e_11ed_bdbb_96000040dfb6row1_col3{\n",
       "            background-color:  #1c2d81;\n",
       "            color:  #f1f1f1;\n",
       "        }#T_299ca69c_950e_11ed_bdbb_96000040dfb6row1_col4{\n",
       "            background-color:  #216bae;\n",
       "            color:  #f1f1f1;\n",
       "        }#T_299ca69c_950e_11ed_bdbb_96000040dfb6row1_col5{\n",
       "            background-color:  #1d2e83;\n",
       "            color:  #f1f1f1;\n",
       "        }#T_299ca69c_950e_11ed_bdbb_96000040dfb6row1_col8{\n",
       "            background-color:  #21318d;\n",
       "            color:  #f1f1f1;\n",
       "        }#T_299ca69c_950e_11ed_bdbb_96000040dfb6row1_col10,#T_299ca69c_950e_11ed_bdbb_96000040dfb6row2_col10,#T_299ca69c_950e_11ed_bdbb_96000040dfb6row3_col10,#T_299ca69c_950e_11ed_bdbb_96000040dfb6row4_col10,#T_299ca69c_950e_11ed_bdbb_96000040dfb6row5_col10,#T_299ca69c_950e_11ed_bdbb_96000040dfb6row6_col10,#T_299ca69c_950e_11ed_bdbb_96000040dfb6row7_col10,#T_299ca69c_950e_11ed_bdbb_96000040dfb6row8_col10,#T_299ca69c_950e_11ed_bdbb_96000040dfb6row9_col10,#T_299ca69c_950e_11ed_bdbb_96000040dfb6row10_col10{\n",
       "            background-color:  #ffffd9;\n",
       "            color:  #000000;\n",
       "            background-color:  white;\n",
       "        }#T_299ca69c_950e_11ed_bdbb_96000040dfb6row2_col1{\n",
       "            background-color:  #253997;\n",
       "            color:  #f1f1f1;\n",
       "        }#T_299ca69c_950e_11ed_bdbb_96000040dfb6row2_col2{\n",
       "            background-color:  #2075b3;\n",
       "            color:  #f1f1f1;\n",
       "        }#T_299ca69c_950e_11ed_bdbb_96000040dfb6row2_col3{\n",
       "            background-color:  #172976;\n",
       "            color:  #f1f1f1;\n",
       "        }#T_299ca69c_950e_11ed_bdbb_96000040dfb6row2_col5{\n",
       "            background-color:  #2094c0;\n",
       "            color:  #000000;\n",
       "        }#T_299ca69c_950e_11ed_bdbb_96000040dfb6row2_col6{\n",
       "            background-color:  #0e2265;\n",
       "            color:  #f1f1f1;\n",
       "        }#T_299ca69c_950e_11ed_bdbb_96000040dfb6row2_col7{\n",
       "            background-color:  #2352a3;\n",
       "            color:  #f1f1f1;\n",
       "        }#T_299ca69c_950e_11ed_bdbb_96000040dfb6row2_col9,#T_299ca69c_950e_11ed_bdbb_96000040dfb6row3_col8,#T_299ca69c_950e_11ed_bdbb_96000040dfb6row3_col9,#T_299ca69c_950e_11ed_bdbb_96000040dfb6row4_col7,#T_299ca69c_950e_11ed_bdbb_96000040dfb6row4_col8,#T_299ca69c_950e_11ed_bdbb_96000040dfb6row4_col9,#T_299ca69c_950e_11ed_bdbb_96000040dfb6row5_col6,#T_299ca69c_950e_11ed_bdbb_96000040dfb6row5_col7,#T_299ca69c_950e_11ed_bdbb_96000040dfb6row5_col8,#T_299ca69c_950e_11ed_bdbb_96000040dfb6row5_col9,#T_299ca69c_950e_11ed_bdbb_96000040dfb6row6_col5,#T_299ca69c_950e_11ed_bdbb_96000040dfb6row6_col6,#T_299ca69c_950e_11ed_bdbb_96000040dfb6row6_col7,#T_299ca69c_950e_11ed_bdbb_96000040dfb6row6_col8,#T_299ca69c_950e_11ed_bdbb_96000040dfb6row6_col9,#T_299ca69c_950e_11ed_bdbb_96000040dfb6row7_col4,#T_299ca69c_950e_11ed_bdbb_96000040dfb6row7_col5,#T_299ca69c_950e_11ed_bdbb_96000040dfb6row7_col6,#T_299ca69c_950e_11ed_bdbb_96000040dfb6row7_col7,#T_299ca69c_950e_11ed_bdbb_96000040dfb6row7_col8,#T_299ca69c_950e_11ed_bdbb_96000040dfb6row7_col9,#T_299ca69c_950e_11ed_bdbb_96000040dfb6row8_col3,#T_299ca69c_950e_11ed_bdbb_96000040dfb6row8_col4,#T_299ca69c_950e_11ed_bdbb_96000040dfb6row8_col5,#T_299ca69c_950e_11ed_bdbb_96000040dfb6row8_col6,#T_299ca69c_950e_11ed_bdbb_96000040dfb6row8_col7,#T_299ca69c_950e_11ed_bdbb_96000040dfb6row8_col8,#T_299ca69c_950e_11ed_bdbb_96000040dfb6row8_col9,#T_299ca69c_950e_11ed_bdbb_96000040dfb6row9_col2,#T_299ca69c_950e_11ed_bdbb_96000040dfb6row9_col3,#T_299ca69c_950e_11ed_bdbb_96000040dfb6row9_col4,#T_299ca69c_950e_11ed_bdbb_96000040dfb6row9_col5,#T_299ca69c_950e_11ed_bdbb_96000040dfb6row9_col6,#T_299ca69c_950e_11ed_bdbb_96000040dfb6row9_col7,#T_299ca69c_950e_11ed_bdbb_96000040dfb6row9_col8,#T_299ca69c_950e_11ed_bdbb_96000040dfb6row9_col9,#T_299ca69c_950e_11ed_bdbb_96000040dfb6row10_col1,#T_299ca69c_950e_11ed_bdbb_96000040dfb6row10_col2,#T_299ca69c_950e_11ed_bdbb_96000040dfb6row10_col3,#T_299ca69c_950e_11ed_bdbb_96000040dfb6row10_col4,#T_299ca69c_950e_11ed_bdbb_96000040dfb6row10_col5,#T_299ca69c_950e_11ed_bdbb_96000040dfb6row10_col6,#T_299ca69c_950e_11ed_bdbb_96000040dfb6row10_col7,#T_299ca69c_950e_11ed_bdbb_96000040dfb6row10_col8,#T_299ca69c_950e_11ed_bdbb_96000040dfb6row10_col9{\n",
       "            background-color:  #000000;\n",
       "            color:  #f1f1f1;\n",
       "            background-color:  white;\n",
       "        }#T_299ca69c_950e_11ed_bdbb_96000040dfb6row3_col1{\n",
       "            background-color:  #1f82b9;\n",
       "            color:  #000000;\n",
       "        }#T_299ca69c_950e_11ed_bdbb_96000040dfb6row3_col2{\n",
       "            background-color:  #23499e;\n",
       "            color:  #f1f1f1;\n",
       "        }#T_299ca69c_950e_11ed_bdbb_96000040dfb6row3_col3{\n",
       "            background-color:  #11246b;\n",
       "            color:  #f1f1f1;\n",
       "        }#T_299ca69c_950e_11ed_bdbb_96000040dfb6row3_col4{\n",
       "            background-color:  #52bcc2;\n",
       "            color:  #000000;\n",
       "        }#T_299ca69c_950e_11ed_bdbb_96000040dfb6row3_col6{\n",
       "            background-color:  #0a1e5c;\n",
       "            color:  #f1f1f1;\n",
       "        }#T_299ca69c_950e_11ed_bdbb_96000040dfb6row4_col1{\n",
       "            background-color:  #3fb4c4;\n",
       "            color:  #000000;\n",
       "        }#T_299ca69c_950e_11ed_bdbb_96000040dfb6row4_col2{\n",
       "            background-color:  #243d98;\n",
       "            color:  #f1f1f1;\n",
       "        }#T_299ca69c_950e_11ed_bdbb_96000040dfb6row4_col4{\n",
       "            background-color:  #2355a4;\n",
       "            color:  #f1f1f1;\n",
       "        }#T_299ca69c_950e_11ed_bdbb_96000040dfb6row4_col5{\n",
       "            background-color:  #24419a;\n",
       "            color:  #f1f1f1;\n",
       "        }#T_299ca69c_950e_11ed_bdbb_96000040dfb6row5_col1{\n",
       "            background-color:  #1e83ba;\n",
       "            color:  #000000;\n",
       "        }#T_299ca69c_950e_11ed_bdbb_96000040dfb6row5_col3{\n",
       "            background-color:  #234fa1;\n",
       "            color:  #f1f1f1;\n",
       "        }#T_299ca69c_950e_11ed_bdbb_96000040dfb6row5_col4{\n",
       "            background-color:  #1f7bb6;\n",
       "            color:  #000000;\n",
       "        }#T_299ca69c_950e_11ed_bdbb_96000040dfb6row6_col1{\n",
       "            background-color:  #1f93c0;\n",
       "            color:  #000000;\n",
       "        }#T_299ca69c_950e_11ed_bdbb_96000040dfb6row6_col2{\n",
       "            background-color:  #87d0ba;\n",
       "            color:  #000000;\n",
       "        }#T_299ca69c_950e_11ed_bdbb_96000040dfb6row7_col2{\n",
       "            background-color:  #253595;\n",
       "            color:  #f1f1f1;\n",
       "        }#T_299ca69c_950e_11ed_bdbb_96000040dfb6row8_col1{\n",
       "            background-color:  #1e85ba;\n",
       "            color:  #000000;\n",
       "        }</style><table id=\"T_299ca69c_950e_11ed_bdbb_96000040dfb6\" ><caption>Коэффициент удержания клиентов по кагортам</caption><thead>    <tr>        <th class=\"index_name level0\" >lifetime</th>        <th class=\"col_heading level0 col0\" >0</th>        <th class=\"col_heading level0 col1\" >1</th>        <th class=\"col_heading level0 col2\" >2</th>        <th class=\"col_heading level0 col3\" >3</th>        <th class=\"col_heading level0 col4\" >4</th>        <th class=\"col_heading level0 col5\" >5</th>        <th class=\"col_heading level0 col6\" >6</th>        <th class=\"col_heading level0 col7\" >7</th>        <th class=\"col_heading level0 col8\" >8</th>        <th class=\"col_heading level0 col9\" >9</th>        <th class=\"col_heading level0 col10\" >10</th>    </tr>    <tr>        <th class=\"index_name level0\" >reg_ts_d</th>        <th class=\"blank\" ></th>        <th class=\"blank\" ></th>        <th class=\"blank\" ></th>        <th class=\"blank\" ></th>        <th class=\"blank\" ></th>        <th class=\"blank\" ></th>        <th class=\"blank\" ></th>        <th class=\"blank\" ></th>        <th class=\"blank\" ></th>        <th class=\"blank\" ></th>        <th class=\"blank\" ></th>    </tr></thead><tbody>\n",
       "                <tr>\n",
       "                        <th id=\"T_299ca69c_950e_11ed_bdbb_96000040dfb6level0_row0\" class=\"row_heading level0 row0\" >2020-09-13 00:00:00</th>\n",
       "                        <td id=\"T_299ca69c_950e_11ed_bdbb_96000040dfb6row0_col0\" class=\"data row0 col0\" >100.000%</td>\n",
       "                        <td id=\"T_299ca69c_950e_11ed_bdbb_96000040dfb6row0_col1\" class=\"data row0 col1\" >1.978%</td>\n",
       "                        <td id=\"T_299ca69c_950e_11ed_bdbb_96000040dfb6row0_col2\" class=\"data row0 col2\" >4.079%</td>\n",
       "                        <td id=\"T_299ca69c_950e_11ed_bdbb_96000040dfb6row0_col3\" class=\"data row0 col3\" >4.265%</td>\n",
       "                        <td id=\"T_299ca69c_950e_11ed_bdbb_96000040dfb6row0_col4\" class=\"data row0 col4\" >5.130%</td>\n",
       "                        <td id=\"T_299ca69c_950e_11ed_bdbb_96000040dfb6row0_col5\" class=\"data row0 col5\" >6.551%</td>\n",
       "                        <td id=\"T_299ca69c_950e_11ed_bdbb_96000040dfb6row0_col6\" class=\"data row0 col6\" >6.489%</td>\n",
       "                        <td id=\"T_299ca69c_950e_11ed_bdbb_96000040dfb6row0_col7\" class=\"data row0 col7\" >4.944%</td>\n",
       "                        <td id=\"T_299ca69c_950e_11ed_bdbb_96000040dfb6row0_col8\" class=\"data row0 col8\" >4.697%</td>\n",
       "                        <td id=\"T_299ca69c_950e_11ed_bdbb_96000040dfb6row0_col9\" class=\"data row0 col9\" >4.944%</td>\n",
       "                        <td id=\"T_299ca69c_950e_11ed_bdbb_96000040dfb6row0_col10\" class=\"data row0 col10\" >3.585%</td>\n",
       "            </tr>\n",
       "            <tr>\n",
       "                        <th id=\"T_299ca69c_950e_11ed_bdbb_96000040dfb6level0_row1\" class=\"row_heading level0 row1\" >2020-09-14 00:00:00</th>\n",
       "                        <td id=\"T_299ca69c_950e_11ed_bdbb_96000040dfb6row1_col0\" class=\"data row1 col0\" >100.000%</td>\n",
       "                        <td id=\"T_299ca69c_950e_11ed_bdbb_96000040dfb6row1_col1\" class=\"data row1 col1\" >2.224%</td>\n",
       "                        <td id=\"T_299ca69c_950e_11ed_bdbb_96000040dfb6row1_col2\" class=\"data row1 col2\" >3.830%</td>\n",
       "                        <td id=\"T_299ca69c_950e_11ed_bdbb_96000040dfb6row1_col3\" class=\"data row1 col3\" >4.509%</td>\n",
       "                        <td id=\"T_299ca69c_950e_11ed_bdbb_96000040dfb6row1_col4\" class=\"data row1 col4\" >5.312%</td>\n",
       "                        <td id=\"T_299ca69c_950e_11ed_bdbb_96000040dfb6row1_col5\" class=\"data row1 col5\" >6.485%</td>\n",
       "                        <td id=\"T_299ca69c_950e_11ed_bdbb_96000040dfb6row1_col6\" class=\"data row1 col6\" >6.980%</td>\n",
       "                        <td id=\"T_299ca69c_950e_11ed_bdbb_96000040dfb6row1_col7\" class=\"data row1 col7\" >6.300%</td>\n",
       "                        <td id=\"T_299ca69c_950e_11ed_bdbb_96000040dfb6row1_col8\" class=\"data row1 col8\" >4.447%</td>\n",
       "                        <td id=\"T_299ca69c_950e_11ed_bdbb_96000040dfb6row1_col9\" class=\"data row1 col9\" >2.903%</td>\n",
       "                        <td id=\"T_299ca69c_950e_11ed_bdbb_96000040dfb6row1_col10\" class=\"data row1 col10\" ></td>\n",
       "            </tr>\n",
       "            <tr>\n",
       "                        <th id=\"T_299ca69c_950e_11ed_bdbb_96000040dfb6level0_row2\" class=\"row_heading level0 row2\" >2020-09-15 00:00:00</th>\n",
       "                        <td id=\"T_299ca69c_950e_11ed_bdbb_96000040dfb6row2_col0\" class=\"data row2 col0\" >100.000%</td>\n",
       "                        <td id=\"T_299ca69c_950e_11ed_bdbb_96000040dfb6row2_col1\" class=\"data row2 col1\" >2.218%</td>\n",
       "                        <td id=\"T_299ca69c_950e_11ed_bdbb_96000040dfb6row2_col2\" class=\"data row2 col2\" >4.067%</td>\n",
       "                        <td id=\"T_299ca69c_950e_11ed_bdbb_96000040dfb6row2_col3\" class=\"data row2 col3\" >4.559%</td>\n",
       "                        <td id=\"T_299ca69c_950e_11ed_bdbb_96000040dfb6row2_col4\" class=\"data row2 col4\" >6.038%</td>\n",
       "                        <td id=\"T_299ca69c_950e_11ed_bdbb_96000040dfb6row2_col5\" class=\"data row2 col5\" >5.607%</td>\n",
       "                        <td id=\"T_299ca69c_950e_11ed_bdbb_96000040dfb6row2_col6\" class=\"data row2 col6\" >6.901%</td>\n",
       "                        <td id=\"T_299ca69c_950e_11ed_bdbb_96000040dfb6row2_col7\" class=\"data row2 col7\" >5.669%</td>\n",
       "                        <td id=\"T_299ca69c_950e_11ed_bdbb_96000040dfb6row2_col8\" class=\"data row2 col8\" >2.465%</td>\n",
       "                        <td id=\"T_299ca69c_950e_11ed_bdbb_96000040dfb6row2_col9\" class=\"data row2 col9\" ></td>\n",
       "                        <td id=\"T_299ca69c_950e_11ed_bdbb_96000040dfb6row2_col10\" class=\"data row2 col10\" ></td>\n",
       "            </tr>\n",
       "            <tr>\n",
       "                        <th id=\"T_299ca69c_950e_11ed_bdbb_96000040dfb6level0_row3\" class=\"row_heading level0 row3\" >2020-09-16 00:00:00</th>\n",
       "                        <td id=\"T_299ca69c_950e_11ed_bdbb_96000040dfb6row3_col0\" class=\"data row3 col0\" >100.000%</td>\n",
       "                        <td id=\"T_299ca69c_950e_11ed_bdbb_96000040dfb6row3_col1\" class=\"data row3 col1\" >1.908%</td>\n",
       "                        <td id=\"T_299ca69c_950e_11ed_bdbb_96000040dfb6row3_col2\" class=\"data row3 col2\" >4.246%</td>\n",
       "                        <td id=\"T_299ca69c_950e_11ed_bdbb_96000040dfb6row3_col3\" class=\"data row3 col3\" >4.615%</td>\n",
       "                        <td id=\"T_299ca69c_950e_11ed_bdbb_96000040dfb6row3_col4\" class=\"data row3 col4\" >4.677%</td>\n",
       "                        <td id=\"T_299ca69c_950e_11ed_bdbb_96000040dfb6row3_col5\" class=\"data row3 col5\" >6.769%</td>\n",
       "                        <td id=\"T_299ca69c_950e_11ed_bdbb_96000040dfb6row3_col6\" class=\"data row3 col6\" >6.954%</td>\n",
       "                        <td id=\"T_299ca69c_950e_11ed_bdbb_96000040dfb6row3_col7\" class=\"data row3 col7\" >3.385%</td>\n",
       "                        <td id=\"T_299ca69c_950e_11ed_bdbb_96000040dfb6row3_col8\" class=\"data row3 col8\" ></td>\n",
       "                        <td id=\"T_299ca69c_950e_11ed_bdbb_96000040dfb6row3_col9\" class=\"data row3 col9\" ></td>\n",
       "                        <td id=\"T_299ca69c_950e_11ed_bdbb_96000040dfb6row3_col10\" class=\"data row3 col10\" ></td>\n",
       "            </tr>\n",
       "            <tr>\n",
       "                        <th id=\"T_299ca69c_950e_11ed_bdbb_96000040dfb6level0_row4\" class=\"row_heading level0 row4\" >2020-09-17 00:00:00</th>\n",
       "                        <td id=\"T_299ca69c_950e_11ed_bdbb_96000040dfb6row4_col0\" class=\"data row4 col0\" >100.000%</td>\n",
       "                        <td id=\"T_299ca69c_950e_11ed_bdbb_96000040dfb6row4_col1\" class=\"data row4 col1\" >1.658%</td>\n",
       "                        <td id=\"T_299ca69c_950e_11ed_bdbb_96000040dfb6row4_col2\" class=\"data row4 col2\" >4.300%</td>\n",
       "                        <td id=\"T_299ca69c_950e_11ed_bdbb_96000040dfb6row4_col3\" class=\"data row4 col3\" >4.545%</td>\n",
       "                        <td id=\"T_299ca69c_950e_11ed_bdbb_96000040dfb6row4_col4\" class=\"data row4 col4\" >5.467%</td>\n",
       "                        <td id=\"T_299ca69c_950e_11ed_bdbb_96000040dfb6row4_col5\" class=\"data row4 col5\" >6.265%</td>\n",
       "                        <td id=\"T_299ca69c_950e_11ed_bdbb_96000040dfb6row4_col6\" class=\"data row4 col6\" >4.238%</td>\n",
       "                        <td id=\"T_299ca69c_950e_11ed_bdbb_96000040dfb6row4_col7\" class=\"data row4 col7\" ></td>\n",
       "                        <td id=\"T_299ca69c_950e_11ed_bdbb_96000040dfb6row4_col8\" class=\"data row4 col8\" ></td>\n",
       "                        <td id=\"T_299ca69c_950e_11ed_bdbb_96000040dfb6row4_col9\" class=\"data row4 col9\" ></td>\n",
       "                        <td id=\"T_299ca69c_950e_11ed_bdbb_96000040dfb6row4_col10\" class=\"data row4 col10\" ></td>\n",
       "            </tr>\n",
       "            <tr>\n",
       "                        <th id=\"T_299ca69c_950e_11ed_bdbb_96000040dfb6level0_row5\" class=\"row_heading level0 row5\" >2020-09-18 00:00:00</th>\n",
       "                        <td id=\"T_299ca69c_950e_11ed_bdbb_96000040dfb6row5_col0\" class=\"data row5 col0\" >100.000%</td>\n",
       "                        <td id=\"T_299ca69c_950e_11ed_bdbb_96000040dfb6row5_col1\" class=\"data row5 col1\" >1.902%</td>\n",
       "                        <td id=\"T_299ca69c_950e_11ed_bdbb_96000040dfb6row5_col2\" class=\"data row5 col2\" >4.540%</td>\n",
       "                        <td id=\"T_299ca69c_950e_11ed_bdbb_96000040dfb6row5_col3\" class=\"data row5 col3\" >4.233%</td>\n",
       "                        <td id=\"T_299ca69c_950e_11ed_bdbb_96000040dfb6row5_col4\" class=\"data row5 col4\" >5.215%</td>\n",
       "                        <td id=\"T_299ca69c_950e_11ed_bdbb_96000040dfb6row5_col5\" class=\"data row5 col5\" >3.742%</td>\n",
       "                        <td id=\"T_299ca69c_950e_11ed_bdbb_96000040dfb6row5_col6\" class=\"data row5 col6\" ></td>\n",
       "                        <td id=\"T_299ca69c_950e_11ed_bdbb_96000040dfb6row5_col7\" class=\"data row5 col7\" ></td>\n",
       "                        <td id=\"T_299ca69c_950e_11ed_bdbb_96000040dfb6row5_col8\" class=\"data row5 col8\" ></td>\n",
       "                        <td id=\"T_299ca69c_950e_11ed_bdbb_96000040dfb6row5_col9\" class=\"data row5 col9\" ></td>\n",
       "                        <td id=\"T_299ca69c_950e_11ed_bdbb_96000040dfb6row5_col10\" class=\"data row5 col10\" ></td>\n",
       "            </tr>\n",
       "            <tr>\n",
       "                        <th id=\"T_299ca69c_950e_11ed_bdbb_96000040dfb6level0_row6\" class=\"row_heading level0 row6\" >2020-09-19 00:00:00</th>\n",
       "                        <td id=\"T_299ca69c_950e_11ed_bdbb_96000040dfb6row6_col0\" class=\"data row6 col0\" >100.000%</td>\n",
       "                        <td id=\"T_299ca69c_950e_11ed_bdbb_96000040dfb6row6_col1\" class=\"data row6 col1\" >1.836%</td>\n",
       "                        <td id=\"T_299ca69c_950e_11ed_bdbb_96000040dfb6row6_col2\" class=\"data row6 col2\" >3.550%</td>\n",
       "                        <td id=\"T_299ca69c_950e_11ed_bdbb_96000040dfb6row6_col3\" class=\"data row6 col3\" >4.712%</td>\n",
       "                        <td id=\"T_299ca69c_950e_11ed_bdbb_96000040dfb6row6_col4\" class=\"data row6 col4\" >3.488%</td>\n",
       "                        <td id=\"T_299ca69c_950e_11ed_bdbb_96000040dfb6row6_col5\" class=\"data row6 col5\" ></td>\n",
       "                        <td id=\"T_299ca69c_950e_11ed_bdbb_96000040dfb6row6_col6\" class=\"data row6 col6\" ></td>\n",
       "                        <td id=\"T_299ca69c_950e_11ed_bdbb_96000040dfb6row6_col7\" class=\"data row6 col7\" ></td>\n",
       "                        <td id=\"T_299ca69c_950e_11ed_bdbb_96000040dfb6row6_col8\" class=\"data row6 col8\" ></td>\n",
       "                        <td id=\"T_299ca69c_950e_11ed_bdbb_96000040dfb6row6_col9\" class=\"data row6 col9\" ></td>\n",
       "                        <td id=\"T_299ca69c_950e_11ed_bdbb_96000040dfb6row6_col10\" class=\"data row6 col10\" ></td>\n",
       "            </tr>\n",
       "            <tr>\n",
       "                        <th id=\"T_299ca69c_950e_11ed_bdbb_96000040dfb6level0_row7\" class=\"row_heading level0 row7\" >2020-09-20 00:00:00</th>\n",
       "                        <td id=\"T_299ca69c_950e_11ed_bdbb_96000040dfb6row7_col0\" class=\"data row7 col0\" >100.000%</td>\n",
       "                        <td id=\"T_299ca69c_950e_11ed_bdbb_96000040dfb6row7_col1\" class=\"data row7 col1\" >2.445%</td>\n",
       "                        <td id=\"T_299ca69c_950e_11ed_bdbb_96000040dfb6row7_col2\" class=\"data row7 col2\" >4.340%</td>\n",
       "                        <td id=\"T_299ca69c_950e_11ed_bdbb_96000040dfb6row7_col3\" class=\"data row7 col3\" >2.384%</td>\n",
       "                        <td id=\"T_299ca69c_950e_11ed_bdbb_96000040dfb6row7_col4\" class=\"data row7 col4\" ></td>\n",
       "                        <td id=\"T_299ca69c_950e_11ed_bdbb_96000040dfb6row7_col5\" class=\"data row7 col5\" ></td>\n",
       "                        <td id=\"T_299ca69c_950e_11ed_bdbb_96000040dfb6row7_col6\" class=\"data row7 col6\" ></td>\n",
       "                        <td id=\"T_299ca69c_950e_11ed_bdbb_96000040dfb6row7_col7\" class=\"data row7 col7\" ></td>\n",
       "                        <td id=\"T_299ca69c_950e_11ed_bdbb_96000040dfb6row7_col8\" class=\"data row7 col8\" ></td>\n",
       "                        <td id=\"T_299ca69c_950e_11ed_bdbb_96000040dfb6row7_col9\" class=\"data row7 col9\" ></td>\n",
       "                        <td id=\"T_299ca69c_950e_11ed_bdbb_96000040dfb6row7_col10\" class=\"data row7 col10\" ></td>\n",
       "            </tr>\n",
       "            <tr>\n",
       "                        <th id=\"T_299ca69c_950e_11ed_bdbb_96000040dfb6level0_row8\" class=\"row_heading level0 row8\" >2020-09-21 00:00:00</th>\n",
       "                        <td id=\"T_299ca69c_950e_11ed_bdbb_96000040dfb6row8_col0\" class=\"data row8 col0\" >100.000%</td>\n",
       "                        <td id=\"T_299ca69c_950e_11ed_bdbb_96000040dfb6row8_col1\" class=\"data row8 col1\" >1.893%</td>\n",
       "                        <td id=\"T_299ca69c_950e_11ed_bdbb_96000040dfb6row8_col2\" class=\"data row8 col2\" >2.991%</td>\n",
       "                        <td id=\"T_299ca69c_950e_11ed_bdbb_96000040dfb6row8_col3\" class=\"data row8 col3\" ></td>\n",
       "                        <td id=\"T_299ca69c_950e_11ed_bdbb_96000040dfb6row8_col4\" class=\"data row8 col4\" ></td>\n",
       "                        <td id=\"T_299ca69c_950e_11ed_bdbb_96000040dfb6row8_col5\" class=\"data row8 col5\" ></td>\n",
       "                        <td id=\"T_299ca69c_950e_11ed_bdbb_96000040dfb6row8_col6\" class=\"data row8 col6\" ></td>\n",
       "                        <td id=\"T_299ca69c_950e_11ed_bdbb_96000040dfb6row8_col7\" class=\"data row8 col7\" ></td>\n",
       "                        <td id=\"T_299ca69c_950e_11ed_bdbb_96000040dfb6row8_col8\" class=\"data row8 col8\" ></td>\n",
       "                        <td id=\"T_299ca69c_950e_11ed_bdbb_96000040dfb6row8_col9\" class=\"data row8 col9\" ></td>\n",
       "                        <td id=\"T_299ca69c_950e_11ed_bdbb_96000040dfb6row8_col10\" class=\"data row8 col10\" ></td>\n",
       "            </tr>\n",
       "            <tr>\n",
       "                        <th id=\"T_299ca69c_950e_11ed_bdbb_96000040dfb6level0_row9\" class=\"row_heading level0 row9\" >2020-09-22 00:00:00</th>\n",
       "                        <td id=\"T_299ca69c_950e_11ed_bdbb_96000040dfb6row9_col0\" class=\"data row9 col0\" >100.000%</td>\n",
       "                        <td id=\"T_299ca69c_950e_11ed_bdbb_96000040dfb6row9_col1\" class=\"data row9 col1\" >0.853%</td>\n",
       "                        <td id=\"T_299ca69c_950e_11ed_bdbb_96000040dfb6row9_col2\" class=\"data row9 col2\" ></td>\n",
       "                        <td id=\"T_299ca69c_950e_11ed_bdbb_96000040dfb6row9_col3\" class=\"data row9 col3\" ></td>\n",
       "                        <td id=\"T_299ca69c_950e_11ed_bdbb_96000040dfb6row9_col4\" class=\"data row9 col4\" ></td>\n",
       "                        <td id=\"T_299ca69c_950e_11ed_bdbb_96000040dfb6row9_col5\" class=\"data row9 col5\" ></td>\n",
       "                        <td id=\"T_299ca69c_950e_11ed_bdbb_96000040dfb6row9_col6\" class=\"data row9 col6\" ></td>\n",
       "                        <td id=\"T_299ca69c_950e_11ed_bdbb_96000040dfb6row9_col7\" class=\"data row9 col7\" ></td>\n",
       "                        <td id=\"T_299ca69c_950e_11ed_bdbb_96000040dfb6row9_col8\" class=\"data row9 col8\" ></td>\n",
       "                        <td id=\"T_299ca69c_950e_11ed_bdbb_96000040dfb6row9_col9\" class=\"data row9 col9\" ></td>\n",
       "                        <td id=\"T_299ca69c_950e_11ed_bdbb_96000040dfb6row9_col10\" class=\"data row9 col10\" ></td>\n",
       "            </tr>\n",
       "            <tr>\n",
       "                        <th id=\"T_299ca69c_950e_11ed_bdbb_96000040dfb6level0_row10\" class=\"row_heading level0 row10\" >2020-09-23 00:00:00</th>\n",
       "                        <td id=\"T_299ca69c_950e_11ed_bdbb_96000040dfb6row10_col0\" class=\"data row10 col0\" >100.000%</td>\n",
       "                        <td id=\"T_299ca69c_950e_11ed_bdbb_96000040dfb6row10_col1\" class=\"data row10 col1\" ></td>\n",
       "                        <td id=\"T_299ca69c_950e_11ed_bdbb_96000040dfb6row10_col2\" class=\"data row10 col2\" ></td>\n",
       "                        <td id=\"T_299ca69c_950e_11ed_bdbb_96000040dfb6row10_col3\" class=\"data row10 col3\" ></td>\n",
       "                        <td id=\"T_299ca69c_950e_11ed_bdbb_96000040dfb6row10_col4\" class=\"data row10 col4\" ></td>\n",
       "                        <td id=\"T_299ca69c_950e_11ed_bdbb_96000040dfb6row10_col5\" class=\"data row10 col5\" ></td>\n",
       "                        <td id=\"T_299ca69c_950e_11ed_bdbb_96000040dfb6row10_col6\" class=\"data row10 col6\" ></td>\n",
       "                        <td id=\"T_299ca69c_950e_11ed_bdbb_96000040dfb6row10_col7\" class=\"data row10 col7\" ></td>\n",
       "                        <td id=\"T_299ca69c_950e_11ed_bdbb_96000040dfb6row10_col8\" class=\"data row10 col8\" ></td>\n",
       "                        <td id=\"T_299ca69c_950e_11ed_bdbb_96000040dfb6row10_col9\" class=\"data row10 col9\" ></td>\n",
       "                        <td id=\"T_299ca69c_950e_11ed_bdbb_96000040dfb6row10_col10\" class=\"data row10 col10\" ></td>\n",
       "            </tr>\n",
       "    </tbody></table>"
      ],
      "text/plain": [
       "<pandas.io.formats.style.Styler at 0x7f86b8b26320>"
      ]
     },
     "execution_count": 25,
     "metadata": {},
     "output_type": "execute_result"
    }
   ],
   "source": [
    "retention_matrix = (matrix\n",
    "            .style\n",
    "            .set_caption('Коэффициент удержания клиентов по кагортам')\n",
    "            .background_gradient(cmap='YlGnBu')\n",
    "            .highlight_null('white')\n",
    "            .format(\"{:.3%}\", na_rep=''))\n",
    "\n",
    "retention_matrix"
   ]
  },
  {
   "cell_type": "markdown",
   "metadata": {},
   "source": [
    "## Приступаем к написанию функции. Очевидно, что нам нужно либо самостоятельно ограничить данные из таблицы какими-то днями, либо предоставить возможность выбирать период. Последнее - удобнее."
   ]
  },
  {
   "cell_type": "code",
   "execution_count": 26,
   "metadata": {},
   "outputs": [],
   "source": [
    "reg_data = pd.read_csv('~/shared/problem1-reg_data.csv', sep=';')\n",
    "auth_data = pd.read_csv('~/shared/problem1-auth_data.csv', sep=';')"
   ]
  },
  {
   "cell_type": "code",
   "execution_count": 27,
   "metadata": {},
   "outputs": [],
   "source": [
    "def cohort(reg_data, auth_data):\n",
    "    \n",
    "    # input\n",
    "    \n",
    "    min_date_cahort = input('Введите начальную дату для анализа ретеншена в формате ГГГГ-ММ-ДД ')\n",
    "    max_date_cahort = input('Введите финальную дату для анализа ретеншена в формате ГГГГ-ММ-ДД ')\n",
    "    min_date_cahort = pd.to_datetime(min_date_cahort, format = '%Y-%m-%d')\n",
    "    max_date_cahort = pd.to_datetime(max_date_cahort, format = '%Y-%m-%d')\n",
    "    color_of_table  = input('Введите цветовую палитру, в которой будет оформлен ответ. Например, YlGnBu: ')\n",
    "    color_of_nan    = input('Введите цветовую палитру, в которой будут оформлены NULL. Например, white: ')\n",
    "    \n",
    "    \n",
    "    # создаем колонки только с датами, без времени\n",
    "    \n",
    "    reg_data['reg_d']   = pd.to_datetime(reg_data['reg_ts'], unit='s').dt.date\n",
    "    auth_data['auth_d'] = pd.to_datetime(auth_data['auth_ts'], unit='s').dt.date\n",
    "    \n",
    "    # объединим таблицы\n",
    "    \n",
    "    full = reg_data.merge(auth_data, how = 'inner', on='uid')\n",
    "    \n",
    "    # теперь отбросим все лишнее из full\n",
    "    \n",
    "    full_split = full.query('reg_d >= @min_date_cahort and reg_d <= @max_date_cahort')\n",
    "    \n",
    "    # посчитаем, сколько было заходов уникальных пользователей\n",
    "    \n",
    "    full_for_cohort = full_split.groupby(['reg_d', 'auth_d'], as_index=False).agg(uid_nunique=('uid', 'nunique')).copy()\n",
    "    \n",
    "    # еще раз на всякий случай переводим столбцы в формат дат\n",
    "    \n",
    "    full_for_cohort['reg_d'] = pd.to_datetime(full_for_cohort.reg_d, format = '%Y-%m-%d')\n",
    "    full_for_cohort['auth_d'] = pd.to_datetime(full_for_cohort.auth_d, format = '%Y-%m-%d')\n",
    "    \n",
    "    # Считаем разницу в днях между датой захода и датой регистрации\n",
    "    \n",
    "    full_for_cohort['lifetime'] = ((full_for_cohort.auth_d - full_for_cohort.reg_d)/np.timedelta64(1, 'D')).round().astype(int)\n",
    "    \n",
    "    # переведем reg_d в object, что бы индекс был без времени (00:00:00)\n",
    "    \n",
    "    full_for_cohort.reg_d = full_for_cohort.reg_d.astype('str')\n",
    "    \n",
    "    # создаем сводную таблицу\n",
    "    \n",
    "    cohort_pivot = full_for_cohort.pivot_table(index='reg_d', columns='lifetime', values='uid_nunique')\n",
    "    \n",
    "    # т.к в момент регистрации игрок еще и первый раз входит в игру, логично, что при lifetime 0 - 100% посещения.\n",
    "    \n",
    "    cohort_main = cohort_pivot.iloc[:, 0]\n",
    "    matrix = cohort_pivot.divide(cohort_main, axis = 0)\n",
    "    \n",
    "    # Красиво оформляем\n",
    "    \n",
    "    retention_matrix = (matrix\n",
    "            .style\n",
    "            .set_caption('Коэффициент удержания клиентов по кагортам')\n",
    "            .background_gradient(cmap= color_of_table)\n",
    "            .highlight_null(color_of_nan)\n",
    "            .format(\"{:.3%}\", na_rep=''))\n",
    "    \n",
    "    return retention_matrix\n",
    "    \n",
    "    "
   ]
  },
  {
   "cell_type": "code",
   "execution_count": 29,
   "metadata": {},
   "outputs": [
    {
     "name": "stdout",
     "output_type": "stream",
     "text": [
      "Введите начальную дату для анализа ретеншена в формате ГГГГ-ММ-ДД 2020-09-13\n",
      "Введите финальную дату для анализа ретеншена в формате ГГГГ-ММ-ДД 2020-09-23\n",
      "Введите цветовую палитру, в которой будет оформлен ответ. Например, YlGnBu: YlGnBu\n",
      "Введите цветовую палитру, в которой будут оформлены NULL. Например, white: green\n"
     ]
    },
    {
     "data": {
      "text/html": [
       "<style  type=\"text/css\" >\n",
       "#T_815c8728_9511_11ed_bdbb_96000040dfb6row0_col0,#T_815c8728_9511_11ed_bdbb_96000040dfb6row0_col10,#T_815c8728_9511_11ed_bdbb_96000040dfb6row1_col0,#T_815c8728_9511_11ed_bdbb_96000040dfb6row1_col9,#T_815c8728_9511_11ed_bdbb_96000040dfb6row2_col0,#T_815c8728_9511_11ed_bdbb_96000040dfb6row2_col8,#T_815c8728_9511_11ed_bdbb_96000040dfb6row3_col0,#T_815c8728_9511_11ed_bdbb_96000040dfb6row3_col7,#T_815c8728_9511_11ed_bdbb_96000040dfb6row4_col0,#T_815c8728_9511_11ed_bdbb_96000040dfb6row4_col6,#T_815c8728_9511_11ed_bdbb_96000040dfb6row5_col0,#T_815c8728_9511_11ed_bdbb_96000040dfb6row5_col5,#T_815c8728_9511_11ed_bdbb_96000040dfb6row6_col0,#T_815c8728_9511_11ed_bdbb_96000040dfb6row6_col4,#T_815c8728_9511_11ed_bdbb_96000040dfb6row7_col0,#T_815c8728_9511_11ed_bdbb_96000040dfb6row7_col3,#T_815c8728_9511_11ed_bdbb_96000040dfb6row8_col0,#T_815c8728_9511_11ed_bdbb_96000040dfb6row8_col2,#T_815c8728_9511_11ed_bdbb_96000040dfb6row9_col0,#T_815c8728_9511_11ed_bdbb_96000040dfb6row9_col1,#T_815c8728_9511_11ed_bdbb_96000040dfb6row10_col0{\n",
       "            background-color:  #ffffd9;\n",
       "            color:  #000000;\n",
       "        }#T_815c8728_9511_11ed_bdbb_96000040dfb6row0_col1{\n",
       "            background-color:  #2070b0;\n",
       "            color:  #f1f1f1;\n",
       "        }#T_815c8728_9511_11ed_bdbb_96000040dfb6row0_col2{\n",
       "            background-color:  #2072b1;\n",
       "            color:  #f1f1f1;\n",
       "        }#T_815c8728_9511_11ed_bdbb_96000040dfb6row0_col3{\n",
       "            background-color:  #234b9f;\n",
       "            color:  #f1f1f1;\n",
       "        }#T_815c8728_9511_11ed_bdbb_96000040dfb6row0_col4{\n",
       "            background-color:  #1e8abd;\n",
       "            color:  #000000;\n",
       "        }#T_815c8728_9511_11ed_bdbb_96000040dfb6row0_col5,#T_815c8728_9511_11ed_bdbb_96000040dfb6row4_col3{\n",
       "            background-color:  #182a7a;\n",
       "            color:  #f1f1f1;\n",
       "        }#T_815c8728_9511_11ed_bdbb_96000040dfb6row0_col6{\n",
       "            background-color:  #24459c;\n",
       "            color:  #f1f1f1;\n",
       "        }#T_815c8728_9511_11ed_bdbb_96000040dfb6row0_col7{\n",
       "            background-color:  #37acc3;\n",
       "            color:  #000000;\n",
       "        }#T_815c8728_9511_11ed_bdbb_96000040dfb6row0_col8,#T_815c8728_9511_11ed_bdbb_96000040dfb6row0_col9,#T_815c8728_9511_11ed_bdbb_96000040dfb6row1_col6,#T_815c8728_9511_11ed_bdbb_96000040dfb6row1_col7,#T_815c8728_9511_11ed_bdbb_96000040dfb6row2_col4,#T_815c8728_9511_11ed_bdbb_96000040dfb6row3_col5,#T_815c8728_9511_11ed_bdbb_96000040dfb6row5_col2,#T_815c8728_9511_11ed_bdbb_96000040dfb6row6_col3,#T_815c8728_9511_11ed_bdbb_96000040dfb6row7_col1{\n",
       "            background-color:  #081d58;\n",
       "            color:  #f1f1f1;\n",
       "        }#T_815c8728_9511_11ed_bdbb_96000040dfb6row1_col1{\n",
       "            background-color:  #253896;\n",
       "            color:  #f1f1f1;\n",
       "        }#T_815c8728_9511_11ed_bdbb_96000040dfb6row1_col2{\n",
       "            background-color:  #35aac3;\n",
       "            color:  #000000;\n",
       "        }#T_815c8728_9511_11ed_bdbb_96000040dfb6row1_col3{\n",
       "            background-color:  #1c2d81;\n",
       "            color:  #f1f1f1;\n",
       "        }#T_815c8728_9511_11ed_bdbb_96000040dfb6row1_col4{\n",
       "            background-color:  #216bae;\n",
       "            color:  #f1f1f1;\n",
       "        }#T_815c8728_9511_11ed_bdbb_96000040dfb6row1_col5{\n",
       "            background-color:  #1d2e83;\n",
       "            color:  #f1f1f1;\n",
       "        }#T_815c8728_9511_11ed_bdbb_96000040dfb6row1_col8{\n",
       "            background-color:  #21318d;\n",
       "            color:  #f1f1f1;\n",
       "        }#T_815c8728_9511_11ed_bdbb_96000040dfb6row1_col10,#T_815c8728_9511_11ed_bdbb_96000040dfb6row2_col10,#T_815c8728_9511_11ed_bdbb_96000040dfb6row3_col10,#T_815c8728_9511_11ed_bdbb_96000040dfb6row4_col10,#T_815c8728_9511_11ed_bdbb_96000040dfb6row5_col10,#T_815c8728_9511_11ed_bdbb_96000040dfb6row6_col10,#T_815c8728_9511_11ed_bdbb_96000040dfb6row7_col10,#T_815c8728_9511_11ed_bdbb_96000040dfb6row8_col10,#T_815c8728_9511_11ed_bdbb_96000040dfb6row9_col10,#T_815c8728_9511_11ed_bdbb_96000040dfb6row10_col10{\n",
       "            background-color:  #ffffd9;\n",
       "            color:  #000000;\n",
       "            background-color:  green;\n",
       "        }#T_815c8728_9511_11ed_bdbb_96000040dfb6row2_col1{\n",
       "            background-color:  #253997;\n",
       "            color:  #f1f1f1;\n",
       "        }#T_815c8728_9511_11ed_bdbb_96000040dfb6row2_col2{\n",
       "            background-color:  #2075b3;\n",
       "            color:  #f1f1f1;\n",
       "        }#T_815c8728_9511_11ed_bdbb_96000040dfb6row2_col3{\n",
       "            background-color:  #172976;\n",
       "            color:  #f1f1f1;\n",
       "        }#T_815c8728_9511_11ed_bdbb_96000040dfb6row2_col5{\n",
       "            background-color:  #2094c0;\n",
       "            color:  #000000;\n",
       "        }#T_815c8728_9511_11ed_bdbb_96000040dfb6row2_col6{\n",
       "            background-color:  #0e2265;\n",
       "            color:  #f1f1f1;\n",
       "        }#T_815c8728_9511_11ed_bdbb_96000040dfb6row2_col7{\n",
       "            background-color:  #2352a3;\n",
       "            color:  #f1f1f1;\n",
       "        }#T_815c8728_9511_11ed_bdbb_96000040dfb6row2_col9,#T_815c8728_9511_11ed_bdbb_96000040dfb6row3_col8,#T_815c8728_9511_11ed_bdbb_96000040dfb6row3_col9,#T_815c8728_9511_11ed_bdbb_96000040dfb6row4_col7,#T_815c8728_9511_11ed_bdbb_96000040dfb6row4_col8,#T_815c8728_9511_11ed_bdbb_96000040dfb6row4_col9,#T_815c8728_9511_11ed_bdbb_96000040dfb6row5_col6,#T_815c8728_9511_11ed_bdbb_96000040dfb6row5_col7,#T_815c8728_9511_11ed_bdbb_96000040dfb6row5_col8,#T_815c8728_9511_11ed_bdbb_96000040dfb6row5_col9,#T_815c8728_9511_11ed_bdbb_96000040dfb6row6_col5,#T_815c8728_9511_11ed_bdbb_96000040dfb6row6_col6,#T_815c8728_9511_11ed_bdbb_96000040dfb6row6_col7,#T_815c8728_9511_11ed_bdbb_96000040dfb6row6_col8,#T_815c8728_9511_11ed_bdbb_96000040dfb6row6_col9,#T_815c8728_9511_11ed_bdbb_96000040dfb6row7_col4,#T_815c8728_9511_11ed_bdbb_96000040dfb6row7_col5,#T_815c8728_9511_11ed_bdbb_96000040dfb6row7_col6,#T_815c8728_9511_11ed_bdbb_96000040dfb6row7_col7,#T_815c8728_9511_11ed_bdbb_96000040dfb6row7_col8,#T_815c8728_9511_11ed_bdbb_96000040dfb6row7_col9,#T_815c8728_9511_11ed_bdbb_96000040dfb6row8_col3,#T_815c8728_9511_11ed_bdbb_96000040dfb6row8_col4,#T_815c8728_9511_11ed_bdbb_96000040dfb6row8_col5,#T_815c8728_9511_11ed_bdbb_96000040dfb6row8_col6,#T_815c8728_9511_11ed_bdbb_96000040dfb6row8_col7,#T_815c8728_9511_11ed_bdbb_96000040dfb6row8_col8,#T_815c8728_9511_11ed_bdbb_96000040dfb6row8_col9,#T_815c8728_9511_11ed_bdbb_96000040dfb6row9_col2,#T_815c8728_9511_11ed_bdbb_96000040dfb6row9_col3,#T_815c8728_9511_11ed_bdbb_96000040dfb6row9_col4,#T_815c8728_9511_11ed_bdbb_96000040dfb6row9_col5,#T_815c8728_9511_11ed_bdbb_96000040dfb6row9_col6,#T_815c8728_9511_11ed_bdbb_96000040dfb6row9_col7,#T_815c8728_9511_11ed_bdbb_96000040dfb6row9_col8,#T_815c8728_9511_11ed_bdbb_96000040dfb6row9_col9,#T_815c8728_9511_11ed_bdbb_96000040dfb6row10_col1,#T_815c8728_9511_11ed_bdbb_96000040dfb6row10_col2,#T_815c8728_9511_11ed_bdbb_96000040dfb6row10_col3,#T_815c8728_9511_11ed_bdbb_96000040dfb6row10_col4,#T_815c8728_9511_11ed_bdbb_96000040dfb6row10_col5,#T_815c8728_9511_11ed_bdbb_96000040dfb6row10_col6,#T_815c8728_9511_11ed_bdbb_96000040dfb6row10_col7,#T_815c8728_9511_11ed_bdbb_96000040dfb6row10_col8,#T_815c8728_9511_11ed_bdbb_96000040dfb6row10_col9{\n",
       "            background-color:  #000000;\n",
       "            color:  #f1f1f1;\n",
       "            background-color:  green;\n",
       "        }#T_815c8728_9511_11ed_bdbb_96000040dfb6row3_col1{\n",
       "            background-color:  #1f82b9;\n",
       "            color:  #000000;\n",
       "        }#T_815c8728_9511_11ed_bdbb_96000040dfb6row3_col2{\n",
       "            background-color:  #23499e;\n",
       "            color:  #f1f1f1;\n",
       "        }#T_815c8728_9511_11ed_bdbb_96000040dfb6row3_col3{\n",
       "            background-color:  #11246b;\n",
       "            color:  #f1f1f1;\n",
       "        }#T_815c8728_9511_11ed_bdbb_96000040dfb6row3_col4{\n",
       "            background-color:  #52bcc2;\n",
       "            color:  #000000;\n",
       "        }#T_815c8728_9511_11ed_bdbb_96000040dfb6row3_col6{\n",
       "            background-color:  #0a1e5c;\n",
       "            color:  #f1f1f1;\n",
       "        }#T_815c8728_9511_11ed_bdbb_96000040dfb6row4_col1{\n",
       "            background-color:  #3fb4c4;\n",
       "            color:  #000000;\n",
       "        }#T_815c8728_9511_11ed_bdbb_96000040dfb6row4_col2{\n",
       "            background-color:  #243d98;\n",
       "            color:  #f1f1f1;\n",
       "        }#T_815c8728_9511_11ed_bdbb_96000040dfb6row4_col4{\n",
       "            background-color:  #2355a4;\n",
       "            color:  #f1f1f1;\n",
       "        }#T_815c8728_9511_11ed_bdbb_96000040dfb6row4_col5{\n",
       "            background-color:  #24419a;\n",
       "            color:  #f1f1f1;\n",
       "        }#T_815c8728_9511_11ed_bdbb_96000040dfb6row5_col1{\n",
       "            background-color:  #1e83ba;\n",
       "            color:  #000000;\n",
       "        }#T_815c8728_9511_11ed_bdbb_96000040dfb6row5_col3{\n",
       "            background-color:  #234fa1;\n",
       "            color:  #f1f1f1;\n",
       "        }#T_815c8728_9511_11ed_bdbb_96000040dfb6row5_col4{\n",
       "            background-color:  #1f7bb6;\n",
       "            color:  #000000;\n",
       "        }#T_815c8728_9511_11ed_bdbb_96000040dfb6row6_col1{\n",
       "            background-color:  #1f93c0;\n",
       "            color:  #000000;\n",
       "        }#T_815c8728_9511_11ed_bdbb_96000040dfb6row6_col2{\n",
       "            background-color:  #87d0ba;\n",
       "            color:  #000000;\n",
       "        }#T_815c8728_9511_11ed_bdbb_96000040dfb6row7_col2{\n",
       "            background-color:  #253595;\n",
       "            color:  #f1f1f1;\n",
       "        }#T_815c8728_9511_11ed_bdbb_96000040dfb6row8_col1{\n",
       "            background-color:  #1e85ba;\n",
       "            color:  #000000;\n",
       "        }</style><table id=\"T_815c8728_9511_11ed_bdbb_96000040dfb6\" ><caption>Коэффициент удержания клиентов по кагортам</caption><thead>    <tr>        <th class=\"index_name level0\" >lifetime</th>        <th class=\"col_heading level0 col0\" >0</th>        <th class=\"col_heading level0 col1\" >1</th>        <th class=\"col_heading level0 col2\" >2</th>        <th class=\"col_heading level0 col3\" >3</th>        <th class=\"col_heading level0 col4\" >4</th>        <th class=\"col_heading level0 col5\" >5</th>        <th class=\"col_heading level0 col6\" >6</th>        <th class=\"col_heading level0 col7\" >7</th>        <th class=\"col_heading level0 col8\" >8</th>        <th class=\"col_heading level0 col9\" >9</th>        <th class=\"col_heading level0 col10\" >10</th>    </tr>    <tr>        <th class=\"index_name level0\" >reg_d</th>        <th class=\"blank\" ></th>        <th class=\"blank\" ></th>        <th class=\"blank\" ></th>        <th class=\"blank\" ></th>        <th class=\"blank\" ></th>        <th class=\"blank\" ></th>        <th class=\"blank\" ></th>        <th class=\"blank\" ></th>        <th class=\"blank\" ></th>        <th class=\"blank\" ></th>        <th class=\"blank\" ></th>    </tr></thead><tbody>\n",
       "                <tr>\n",
       "                        <th id=\"T_815c8728_9511_11ed_bdbb_96000040dfb6level0_row0\" class=\"row_heading level0 row0\" >2020-09-13</th>\n",
       "                        <td id=\"T_815c8728_9511_11ed_bdbb_96000040dfb6row0_col0\" class=\"data row0 col0\" >100.000%</td>\n",
       "                        <td id=\"T_815c8728_9511_11ed_bdbb_96000040dfb6row0_col1\" class=\"data row0 col1\" >1.978%</td>\n",
       "                        <td id=\"T_815c8728_9511_11ed_bdbb_96000040dfb6row0_col2\" class=\"data row0 col2\" >4.079%</td>\n",
       "                        <td id=\"T_815c8728_9511_11ed_bdbb_96000040dfb6row0_col3\" class=\"data row0 col3\" >4.265%</td>\n",
       "                        <td id=\"T_815c8728_9511_11ed_bdbb_96000040dfb6row0_col4\" class=\"data row0 col4\" >5.130%</td>\n",
       "                        <td id=\"T_815c8728_9511_11ed_bdbb_96000040dfb6row0_col5\" class=\"data row0 col5\" >6.551%</td>\n",
       "                        <td id=\"T_815c8728_9511_11ed_bdbb_96000040dfb6row0_col6\" class=\"data row0 col6\" >6.489%</td>\n",
       "                        <td id=\"T_815c8728_9511_11ed_bdbb_96000040dfb6row0_col7\" class=\"data row0 col7\" >4.944%</td>\n",
       "                        <td id=\"T_815c8728_9511_11ed_bdbb_96000040dfb6row0_col8\" class=\"data row0 col8\" >4.697%</td>\n",
       "                        <td id=\"T_815c8728_9511_11ed_bdbb_96000040dfb6row0_col9\" class=\"data row0 col9\" >4.944%</td>\n",
       "                        <td id=\"T_815c8728_9511_11ed_bdbb_96000040dfb6row0_col10\" class=\"data row0 col10\" >3.585%</td>\n",
       "            </tr>\n",
       "            <tr>\n",
       "                        <th id=\"T_815c8728_9511_11ed_bdbb_96000040dfb6level0_row1\" class=\"row_heading level0 row1\" >2020-09-14</th>\n",
       "                        <td id=\"T_815c8728_9511_11ed_bdbb_96000040dfb6row1_col0\" class=\"data row1 col0\" >100.000%</td>\n",
       "                        <td id=\"T_815c8728_9511_11ed_bdbb_96000040dfb6row1_col1\" class=\"data row1 col1\" >2.224%</td>\n",
       "                        <td id=\"T_815c8728_9511_11ed_bdbb_96000040dfb6row1_col2\" class=\"data row1 col2\" >3.830%</td>\n",
       "                        <td id=\"T_815c8728_9511_11ed_bdbb_96000040dfb6row1_col3\" class=\"data row1 col3\" >4.509%</td>\n",
       "                        <td id=\"T_815c8728_9511_11ed_bdbb_96000040dfb6row1_col4\" class=\"data row1 col4\" >5.312%</td>\n",
       "                        <td id=\"T_815c8728_9511_11ed_bdbb_96000040dfb6row1_col5\" class=\"data row1 col5\" >6.485%</td>\n",
       "                        <td id=\"T_815c8728_9511_11ed_bdbb_96000040dfb6row1_col6\" class=\"data row1 col6\" >6.980%</td>\n",
       "                        <td id=\"T_815c8728_9511_11ed_bdbb_96000040dfb6row1_col7\" class=\"data row1 col7\" >6.300%</td>\n",
       "                        <td id=\"T_815c8728_9511_11ed_bdbb_96000040dfb6row1_col8\" class=\"data row1 col8\" >4.447%</td>\n",
       "                        <td id=\"T_815c8728_9511_11ed_bdbb_96000040dfb6row1_col9\" class=\"data row1 col9\" >2.903%</td>\n",
       "                        <td id=\"T_815c8728_9511_11ed_bdbb_96000040dfb6row1_col10\" class=\"data row1 col10\" ></td>\n",
       "            </tr>\n",
       "            <tr>\n",
       "                        <th id=\"T_815c8728_9511_11ed_bdbb_96000040dfb6level0_row2\" class=\"row_heading level0 row2\" >2020-09-15</th>\n",
       "                        <td id=\"T_815c8728_9511_11ed_bdbb_96000040dfb6row2_col0\" class=\"data row2 col0\" >100.000%</td>\n",
       "                        <td id=\"T_815c8728_9511_11ed_bdbb_96000040dfb6row2_col1\" class=\"data row2 col1\" >2.218%</td>\n",
       "                        <td id=\"T_815c8728_9511_11ed_bdbb_96000040dfb6row2_col2\" class=\"data row2 col2\" >4.067%</td>\n",
       "                        <td id=\"T_815c8728_9511_11ed_bdbb_96000040dfb6row2_col3\" class=\"data row2 col3\" >4.559%</td>\n",
       "                        <td id=\"T_815c8728_9511_11ed_bdbb_96000040dfb6row2_col4\" class=\"data row2 col4\" >6.038%</td>\n",
       "                        <td id=\"T_815c8728_9511_11ed_bdbb_96000040dfb6row2_col5\" class=\"data row2 col5\" >5.607%</td>\n",
       "                        <td id=\"T_815c8728_9511_11ed_bdbb_96000040dfb6row2_col6\" class=\"data row2 col6\" >6.901%</td>\n",
       "                        <td id=\"T_815c8728_9511_11ed_bdbb_96000040dfb6row2_col7\" class=\"data row2 col7\" >5.669%</td>\n",
       "                        <td id=\"T_815c8728_9511_11ed_bdbb_96000040dfb6row2_col8\" class=\"data row2 col8\" >2.465%</td>\n",
       "                        <td id=\"T_815c8728_9511_11ed_bdbb_96000040dfb6row2_col9\" class=\"data row2 col9\" ></td>\n",
       "                        <td id=\"T_815c8728_9511_11ed_bdbb_96000040dfb6row2_col10\" class=\"data row2 col10\" ></td>\n",
       "            </tr>\n",
       "            <tr>\n",
       "                        <th id=\"T_815c8728_9511_11ed_bdbb_96000040dfb6level0_row3\" class=\"row_heading level0 row3\" >2020-09-16</th>\n",
       "                        <td id=\"T_815c8728_9511_11ed_bdbb_96000040dfb6row3_col0\" class=\"data row3 col0\" >100.000%</td>\n",
       "                        <td id=\"T_815c8728_9511_11ed_bdbb_96000040dfb6row3_col1\" class=\"data row3 col1\" >1.908%</td>\n",
       "                        <td id=\"T_815c8728_9511_11ed_bdbb_96000040dfb6row3_col2\" class=\"data row3 col2\" >4.246%</td>\n",
       "                        <td id=\"T_815c8728_9511_11ed_bdbb_96000040dfb6row3_col3\" class=\"data row3 col3\" >4.615%</td>\n",
       "                        <td id=\"T_815c8728_9511_11ed_bdbb_96000040dfb6row3_col4\" class=\"data row3 col4\" >4.677%</td>\n",
       "                        <td id=\"T_815c8728_9511_11ed_bdbb_96000040dfb6row3_col5\" class=\"data row3 col5\" >6.769%</td>\n",
       "                        <td id=\"T_815c8728_9511_11ed_bdbb_96000040dfb6row3_col6\" class=\"data row3 col6\" >6.954%</td>\n",
       "                        <td id=\"T_815c8728_9511_11ed_bdbb_96000040dfb6row3_col7\" class=\"data row3 col7\" >3.385%</td>\n",
       "                        <td id=\"T_815c8728_9511_11ed_bdbb_96000040dfb6row3_col8\" class=\"data row3 col8\" ></td>\n",
       "                        <td id=\"T_815c8728_9511_11ed_bdbb_96000040dfb6row3_col9\" class=\"data row3 col9\" ></td>\n",
       "                        <td id=\"T_815c8728_9511_11ed_bdbb_96000040dfb6row3_col10\" class=\"data row3 col10\" ></td>\n",
       "            </tr>\n",
       "            <tr>\n",
       "                        <th id=\"T_815c8728_9511_11ed_bdbb_96000040dfb6level0_row4\" class=\"row_heading level0 row4\" >2020-09-17</th>\n",
       "                        <td id=\"T_815c8728_9511_11ed_bdbb_96000040dfb6row4_col0\" class=\"data row4 col0\" >100.000%</td>\n",
       "                        <td id=\"T_815c8728_9511_11ed_bdbb_96000040dfb6row4_col1\" class=\"data row4 col1\" >1.658%</td>\n",
       "                        <td id=\"T_815c8728_9511_11ed_bdbb_96000040dfb6row4_col2\" class=\"data row4 col2\" >4.300%</td>\n",
       "                        <td id=\"T_815c8728_9511_11ed_bdbb_96000040dfb6row4_col3\" class=\"data row4 col3\" >4.545%</td>\n",
       "                        <td id=\"T_815c8728_9511_11ed_bdbb_96000040dfb6row4_col4\" class=\"data row4 col4\" >5.467%</td>\n",
       "                        <td id=\"T_815c8728_9511_11ed_bdbb_96000040dfb6row4_col5\" class=\"data row4 col5\" >6.265%</td>\n",
       "                        <td id=\"T_815c8728_9511_11ed_bdbb_96000040dfb6row4_col6\" class=\"data row4 col6\" >4.238%</td>\n",
       "                        <td id=\"T_815c8728_9511_11ed_bdbb_96000040dfb6row4_col7\" class=\"data row4 col7\" ></td>\n",
       "                        <td id=\"T_815c8728_9511_11ed_bdbb_96000040dfb6row4_col8\" class=\"data row4 col8\" ></td>\n",
       "                        <td id=\"T_815c8728_9511_11ed_bdbb_96000040dfb6row4_col9\" class=\"data row4 col9\" ></td>\n",
       "                        <td id=\"T_815c8728_9511_11ed_bdbb_96000040dfb6row4_col10\" class=\"data row4 col10\" ></td>\n",
       "            </tr>\n",
       "            <tr>\n",
       "                        <th id=\"T_815c8728_9511_11ed_bdbb_96000040dfb6level0_row5\" class=\"row_heading level0 row5\" >2020-09-18</th>\n",
       "                        <td id=\"T_815c8728_9511_11ed_bdbb_96000040dfb6row5_col0\" class=\"data row5 col0\" >100.000%</td>\n",
       "                        <td id=\"T_815c8728_9511_11ed_bdbb_96000040dfb6row5_col1\" class=\"data row5 col1\" >1.902%</td>\n",
       "                        <td id=\"T_815c8728_9511_11ed_bdbb_96000040dfb6row5_col2\" class=\"data row5 col2\" >4.540%</td>\n",
       "                        <td id=\"T_815c8728_9511_11ed_bdbb_96000040dfb6row5_col3\" class=\"data row5 col3\" >4.233%</td>\n",
       "                        <td id=\"T_815c8728_9511_11ed_bdbb_96000040dfb6row5_col4\" class=\"data row5 col4\" >5.215%</td>\n",
       "                        <td id=\"T_815c8728_9511_11ed_bdbb_96000040dfb6row5_col5\" class=\"data row5 col5\" >3.742%</td>\n",
       "                        <td id=\"T_815c8728_9511_11ed_bdbb_96000040dfb6row5_col6\" class=\"data row5 col6\" ></td>\n",
       "                        <td id=\"T_815c8728_9511_11ed_bdbb_96000040dfb6row5_col7\" class=\"data row5 col7\" ></td>\n",
       "                        <td id=\"T_815c8728_9511_11ed_bdbb_96000040dfb6row5_col8\" class=\"data row5 col8\" ></td>\n",
       "                        <td id=\"T_815c8728_9511_11ed_bdbb_96000040dfb6row5_col9\" class=\"data row5 col9\" ></td>\n",
       "                        <td id=\"T_815c8728_9511_11ed_bdbb_96000040dfb6row5_col10\" class=\"data row5 col10\" ></td>\n",
       "            </tr>\n",
       "            <tr>\n",
       "                        <th id=\"T_815c8728_9511_11ed_bdbb_96000040dfb6level0_row6\" class=\"row_heading level0 row6\" >2020-09-19</th>\n",
       "                        <td id=\"T_815c8728_9511_11ed_bdbb_96000040dfb6row6_col0\" class=\"data row6 col0\" >100.000%</td>\n",
       "                        <td id=\"T_815c8728_9511_11ed_bdbb_96000040dfb6row6_col1\" class=\"data row6 col1\" >1.836%</td>\n",
       "                        <td id=\"T_815c8728_9511_11ed_bdbb_96000040dfb6row6_col2\" class=\"data row6 col2\" >3.550%</td>\n",
       "                        <td id=\"T_815c8728_9511_11ed_bdbb_96000040dfb6row6_col3\" class=\"data row6 col3\" >4.712%</td>\n",
       "                        <td id=\"T_815c8728_9511_11ed_bdbb_96000040dfb6row6_col4\" class=\"data row6 col4\" >3.488%</td>\n",
       "                        <td id=\"T_815c8728_9511_11ed_bdbb_96000040dfb6row6_col5\" class=\"data row6 col5\" ></td>\n",
       "                        <td id=\"T_815c8728_9511_11ed_bdbb_96000040dfb6row6_col6\" class=\"data row6 col6\" ></td>\n",
       "                        <td id=\"T_815c8728_9511_11ed_bdbb_96000040dfb6row6_col7\" class=\"data row6 col7\" ></td>\n",
       "                        <td id=\"T_815c8728_9511_11ed_bdbb_96000040dfb6row6_col8\" class=\"data row6 col8\" ></td>\n",
       "                        <td id=\"T_815c8728_9511_11ed_bdbb_96000040dfb6row6_col9\" class=\"data row6 col9\" ></td>\n",
       "                        <td id=\"T_815c8728_9511_11ed_bdbb_96000040dfb6row6_col10\" class=\"data row6 col10\" ></td>\n",
       "            </tr>\n",
       "            <tr>\n",
       "                        <th id=\"T_815c8728_9511_11ed_bdbb_96000040dfb6level0_row7\" class=\"row_heading level0 row7\" >2020-09-20</th>\n",
       "                        <td id=\"T_815c8728_9511_11ed_bdbb_96000040dfb6row7_col0\" class=\"data row7 col0\" >100.000%</td>\n",
       "                        <td id=\"T_815c8728_9511_11ed_bdbb_96000040dfb6row7_col1\" class=\"data row7 col1\" >2.445%</td>\n",
       "                        <td id=\"T_815c8728_9511_11ed_bdbb_96000040dfb6row7_col2\" class=\"data row7 col2\" >4.340%</td>\n",
       "                        <td id=\"T_815c8728_9511_11ed_bdbb_96000040dfb6row7_col3\" class=\"data row7 col3\" >2.384%</td>\n",
       "                        <td id=\"T_815c8728_9511_11ed_bdbb_96000040dfb6row7_col4\" class=\"data row7 col4\" ></td>\n",
       "                        <td id=\"T_815c8728_9511_11ed_bdbb_96000040dfb6row7_col5\" class=\"data row7 col5\" ></td>\n",
       "                        <td id=\"T_815c8728_9511_11ed_bdbb_96000040dfb6row7_col6\" class=\"data row7 col6\" ></td>\n",
       "                        <td id=\"T_815c8728_9511_11ed_bdbb_96000040dfb6row7_col7\" class=\"data row7 col7\" ></td>\n",
       "                        <td id=\"T_815c8728_9511_11ed_bdbb_96000040dfb6row7_col8\" class=\"data row7 col8\" ></td>\n",
       "                        <td id=\"T_815c8728_9511_11ed_bdbb_96000040dfb6row7_col9\" class=\"data row7 col9\" ></td>\n",
       "                        <td id=\"T_815c8728_9511_11ed_bdbb_96000040dfb6row7_col10\" class=\"data row7 col10\" ></td>\n",
       "            </tr>\n",
       "            <tr>\n",
       "                        <th id=\"T_815c8728_9511_11ed_bdbb_96000040dfb6level0_row8\" class=\"row_heading level0 row8\" >2020-09-21</th>\n",
       "                        <td id=\"T_815c8728_9511_11ed_bdbb_96000040dfb6row8_col0\" class=\"data row8 col0\" >100.000%</td>\n",
       "                        <td id=\"T_815c8728_9511_11ed_bdbb_96000040dfb6row8_col1\" class=\"data row8 col1\" >1.893%</td>\n",
       "                        <td id=\"T_815c8728_9511_11ed_bdbb_96000040dfb6row8_col2\" class=\"data row8 col2\" >2.991%</td>\n",
       "                        <td id=\"T_815c8728_9511_11ed_bdbb_96000040dfb6row8_col3\" class=\"data row8 col3\" ></td>\n",
       "                        <td id=\"T_815c8728_9511_11ed_bdbb_96000040dfb6row8_col4\" class=\"data row8 col4\" ></td>\n",
       "                        <td id=\"T_815c8728_9511_11ed_bdbb_96000040dfb6row8_col5\" class=\"data row8 col5\" ></td>\n",
       "                        <td id=\"T_815c8728_9511_11ed_bdbb_96000040dfb6row8_col6\" class=\"data row8 col6\" ></td>\n",
       "                        <td id=\"T_815c8728_9511_11ed_bdbb_96000040dfb6row8_col7\" class=\"data row8 col7\" ></td>\n",
       "                        <td id=\"T_815c8728_9511_11ed_bdbb_96000040dfb6row8_col8\" class=\"data row8 col8\" ></td>\n",
       "                        <td id=\"T_815c8728_9511_11ed_bdbb_96000040dfb6row8_col9\" class=\"data row8 col9\" ></td>\n",
       "                        <td id=\"T_815c8728_9511_11ed_bdbb_96000040dfb6row8_col10\" class=\"data row8 col10\" ></td>\n",
       "            </tr>\n",
       "            <tr>\n",
       "                        <th id=\"T_815c8728_9511_11ed_bdbb_96000040dfb6level0_row9\" class=\"row_heading level0 row9\" >2020-09-22</th>\n",
       "                        <td id=\"T_815c8728_9511_11ed_bdbb_96000040dfb6row9_col0\" class=\"data row9 col0\" >100.000%</td>\n",
       "                        <td id=\"T_815c8728_9511_11ed_bdbb_96000040dfb6row9_col1\" class=\"data row9 col1\" >0.853%</td>\n",
       "                        <td id=\"T_815c8728_9511_11ed_bdbb_96000040dfb6row9_col2\" class=\"data row9 col2\" ></td>\n",
       "                        <td id=\"T_815c8728_9511_11ed_bdbb_96000040dfb6row9_col3\" class=\"data row9 col3\" ></td>\n",
       "                        <td id=\"T_815c8728_9511_11ed_bdbb_96000040dfb6row9_col4\" class=\"data row9 col4\" ></td>\n",
       "                        <td id=\"T_815c8728_9511_11ed_bdbb_96000040dfb6row9_col5\" class=\"data row9 col5\" ></td>\n",
       "                        <td id=\"T_815c8728_9511_11ed_bdbb_96000040dfb6row9_col6\" class=\"data row9 col6\" ></td>\n",
       "                        <td id=\"T_815c8728_9511_11ed_bdbb_96000040dfb6row9_col7\" class=\"data row9 col7\" ></td>\n",
       "                        <td id=\"T_815c8728_9511_11ed_bdbb_96000040dfb6row9_col8\" class=\"data row9 col8\" ></td>\n",
       "                        <td id=\"T_815c8728_9511_11ed_bdbb_96000040dfb6row9_col9\" class=\"data row9 col9\" ></td>\n",
       "                        <td id=\"T_815c8728_9511_11ed_bdbb_96000040dfb6row9_col10\" class=\"data row9 col10\" ></td>\n",
       "            </tr>\n",
       "            <tr>\n",
       "                        <th id=\"T_815c8728_9511_11ed_bdbb_96000040dfb6level0_row10\" class=\"row_heading level0 row10\" >2020-09-23</th>\n",
       "                        <td id=\"T_815c8728_9511_11ed_bdbb_96000040dfb6row10_col0\" class=\"data row10 col0\" >100.000%</td>\n",
       "                        <td id=\"T_815c8728_9511_11ed_bdbb_96000040dfb6row10_col1\" class=\"data row10 col1\" ></td>\n",
       "                        <td id=\"T_815c8728_9511_11ed_bdbb_96000040dfb6row10_col2\" class=\"data row10 col2\" ></td>\n",
       "                        <td id=\"T_815c8728_9511_11ed_bdbb_96000040dfb6row10_col3\" class=\"data row10 col3\" ></td>\n",
       "                        <td id=\"T_815c8728_9511_11ed_bdbb_96000040dfb6row10_col4\" class=\"data row10 col4\" ></td>\n",
       "                        <td id=\"T_815c8728_9511_11ed_bdbb_96000040dfb6row10_col5\" class=\"data row10 col5\" ></td>\n",
       "                        <td id=\"T_815c8728_9511_11ed_bdbb_96000040dfb6row10_col6\" class=\"data row10 col6\" ></td>\n",
       "                        <td id=\"T_815c8728_9511_11ed_bdbb_96000040dfb6row10_col7\" class=\"data row10 col7\" ></td>\n",
       "                        <td id=\"T_815c8728_9511_11ed_bdbb_96000040dfb6row10_col8\" class=\"data row10 col8\" ></td>\n",
       "                        <td id=\"T_815c8728_9511_11ed_bdbb_96000040dfb6row10_col9\" class=\"data row10 col9\" ></td>\n",
       "                        <td id=\"T_815c8728_9511_11ed_bdbb_96000040dfb6row10_col10\" class=\"data row10 col10\" ></td>\n",
       "            </tr>\n",
       "    </tbody></table>"
      ],
      "text/plain": [
       "<pandas.io.formats.style.Styler at 0x7f86b5ec8b70>"
      ]
     },
     "execution_count": 29,
     "metadata": {},
     "output_type": "execute_result"
    }
   ],
   "source": [
    "cohort(reg_data, auth_data)"
   ]
  },
  {
   "cell_type": "markdown",
   "metadata": {},
   "source": [
    "# Первое задание выполнено"
   ]
  },
  {
   "cell_type": "code",
   "execution_count": null,
   "metadata": {},
   "outputs": [],
   "source": []
  },
  {
   "cell_type": "markdown",
   "metadata": {},
   "source": [
    "## Второе задание:\n",
    "## Имеются результаты A/B теста, в котором двум группам пользователей предлагались различные наборы акционных предложений. Известно, что ARPU в тестовой группе выше на 5%, чем в контрольной. При этом в контрольной группе 1928 игроков из 202103 оказались платящими, а в тестовой – 1805 из 202667.\n",
    "\n",
    "## Какой набор предложений можно считать лучшим? Какие метрики стоит проанализировать для принятия правильного решения и как?"
   ]
  },
  {
   "cell_type": "code",
   "execution_count": 30,
   "metadata": {},
   "outputs": [],
   "source": [
    "base_url = 'https://cloud-api.yandex.net/v1/disk/public/resources/download?' # импортируем напрямую с яндекс-диска\n",
    "public_key_1 = 'https://disk.yandex.ru/d/SOkIsD5A8xlI7Q' \n",
    "final_url_1 = base_url + urlencode(dict(public_key=public_key_1)) \n",
    "response_1 = requests.get(final_url_1)\n",
    "download_url_1 = response_1.json()['href'] \n",
    "df = pd.read_csv(download_url_1, sep=';')"
   ]
  },
  {
   "cell_type": "code",
   "execution_count": 31,
   "metadata": {},
   "outputs": [
    {
     "data": {
      "text/html": [
       "<div>\n",
       "<style scoped>\n",
       "    .dataframe tbody tr th:only-of-type {\n",
       "        vertical-align: middle;\n",
       "    }\n",
       "\n",
       "    .dataframe tbody tr th {\n",
       "        vertical-align: top;\n",
       "    }\n",
       "\n",
       "    .dataframe thead th {\n",
       "        text-align: right;\n",
       "    }\n",
       "</style>\n",
       "<table border=\"1\" class=\"dataframe\">\n",
       "  <thead>\n",
       "    <tr style=\"text-align: right;\">\n",
       "      <th></th>\n",
       "      <th>user_id</th>\n",
       "      <th>revenue</th>\n",
       "      <th>testgroup</th>\n",
       "    </tr>\n",
       "  </thead>\n",
       "  <tbody>\n",
       "    <tr>\n",
       "      <th>0</th>\n",
       "      <td>1</td>\n",
       "      <td>0</td>\n",
       "      <td>b</td>\n",
       "    </tr>\n",
       "    <tr>\n",
       "      <th>1</th>\n",
       "      <td>2</td>\n",
       "      <td>0</td>\n",
       "      <td>a</td>\n",
       "    </tr>\n",
       "    <tr>\n",
       "      <th>2</th>\n",
       "      <td>3</td>\n",
       "      <td>0</td>\n",
       "      <td>a</td>\n",
       "    </tr>\n",
       "    <tr>\n",
       "      <th>3</th>\n",
       "      <td>4</td>\n",
       "      <td>0</td>\n",
       "      <td>b</td>\n",
       "    </tr>\n",
       "    <tr>\n",
       "      <th>4</th>\n",
       "      <td>5</td>\n",
       "      <td>0</td>\n",
       "      <td>b</td>\n",
       "    </tr>\n",
       "  </tbody>\n",
       "</table>\n",
       "</div>"
      ],
      "text/plain": [
       "   user_id  revenue testgroup\n",
       "0        1        0         b\n",
       "1        2        0         a\n",
       "2        3        0         a\n",
       "3        4        0         b\n",
       "4        5        0         b"
      ]
     },
     "execution_count": 31,
     "metadata": {},
     "output_type": "execute_result"
    }
   ],
   "source": [
    "df.head()"
   ]
  },
  {
   "cell_type": "markdown",
   "metadata": {},
   "source": [
    "Сравним количество уникальных юзеров с количеством строк.  \n",
    "Вывод: в каждой строчке уникальный юзер. Это также говорит о том, что если юзер совершал две и более покупки - они суммируются"
   ]
  },
  {
   "cell_type": "code",
   "execution_count": 32,
   "metadata": {},
   "outputs": [
    {
     "data": {
      "text/plain": [
       "True"
      ]
     },
     "execution_count": 32,
     "metadata": {},
     "output_type": "execute_result"
    }
   ],
   "source": [
    "df.user_id.nunique() == len(df)"
   ]
  },
  {
   "cell_type": "code",
   "execution_count": 33,
   "metadata": {},
   "outputs": [
    {
     "data": {
      "text/plain": [
       "user_id      0\n",
       "revenue      0\n",
       "testgroup    0\n",
       "dtype: int64"
      ]
     },
     "execution_count": 33,
     "metadata": {},
     "output_type": "execute_result"
    }
   ],
   "source": [
    "df.isna().sum() # NULL нет, дублей быть не может, т.к user_id уникален"
   ]
  },
  {
   "cell_type": "code",
   "execution_count": 34,
   "metadata": {},
   "outputs": [
    {
     "data": {
      "text/plain": [
       "user_id       int64\n",
       "revenue       int64\n",
       "testgroup    object\n",
       "dtype: object"
      ]
     },
     "execution_count": 34,
     "metadata": {},
     "output_type": "execute_result"
    }
   ],
   "source": [
    "df.dtypes"
   ]
  },
  {
   "cell_type": "markdown",
   "metadata": {},
   "source": [
    "Посчитаем количество строк в каждой группе, сумму денег, потраченной группой и средняя сумма на пользователя"
   ]
  },
  {
   "cell_type": "code",
   "execution_count": 35,
   "metadata": {},
   "outputs": [
    {
     "data": {
      "text/plain": [
       "count    2.021030e+05\n",
       "sum      5.136189e+06\n",
       "mean     2.541372e+01\n",
       "Name: revenue, dtype: float64"
      ]
     },
     "execution_count": 35,
     "metadata": {},
     "output_type": "execute_result"
    }
   ],
   "source": [
    "df.query('testgroup == \"a\"').revenue.agg(['count', 'sum', 'mean'])"
   ]
  },
  {
   "cell_type": "code",
   "execution_count": 36,
   "metadata": {},
   "outputs": [
    {
     "data": {
      "text/plain": [
       "count    2.026670e+05\n",
       "sum      5.421603e+06\n",
       "mean     2.675129e+01\n",
       "Name: revenue, dtype: float64"
      ]
     },
     "execution_count": 36,
     "metadata": {},
     "output_type": "execute_result"
    }
   ],
   "source": [
    "df.query('testgroup == \"b\"').revenue.agg(['count', 'sum', 'mean'])"
   ]
  },
  {
   "cell_type": "code",
   "execution_count": 37,
   "metadata": {},
   "outputs": [
    {
     "data": {
      "text/plain": [
       "0"
      ]
     },
     "execution_count": 37,
     "metadata": {},
     "output_type": "execute_result"
    }
   ],
   "source": [
    "df.revenue.min() # отрицательных (т.е возвратов) нет, но и быть не могло, т.к у нас каждый пользователь уникален"
   ]
  },
  {
   "cell_type": "markdown",
   "metadata": {},
   "source": [
    "Узнаем, какая группа является контрольной/тестовой"
   ]
  },
  {
   "cell_type": "code",
   "execution_count": 38,
   "metadata": {},
   "outputs": [
    {
     "data": {
      "text/plain": [
       "1928"
      ]
     },
     "execution_count": 38,
     "metadata": {},
     "output_type": "execute_result"
    }
   ],
   "source": [
    "len(df.query('testgroup == \"a\" and revenue > 0')) # - группа А - контрольная."
   ]
  },
  {
   "cell_type": "markdown",
   "metadata": {},
   "source": [
    "Узнаем, действительно ли ARPU отличается на 5%"
   ]
  },
  {
   "cell_type": "code",
   "execution_count": 39,
   "metadata": {},
   "outputs": [
    {
     "data": {
      "text/plain": [
       "5.000009444962146"
      ]
     },
     "execution_count": 39,
     "metadata": {},
     "output_type": "execute_result"
    }
   ],
   "source": [
    "100 - df.query('testgroup == \"a\"')['revenue'].mean() * 100  / df.query('testgroup == \"b\"')['revenue'].mean() # действительно"
   ]
  },
  {
   "cell_type": "markdown",
   "metadata": {},
   "source": [
    "Краткий вывод из быстрого просмотра:  \n",
    "1) Группа а - контрольная, b - тестовая   \n",
    "2) в df нет данных о количестве совершенных покупок, лишь о сумме покупок за исследуемый период  \n",
    "3) Arpu действительно отличается на 5 %, заявленное количество купишвших в каждой группе подтверждается  "
   ]
  },
  {
   "cell_type": "markdown",
   "metadata": {},
   "source": [
    "посмотрим на гистограммы без разбивки на группы, с разбивкой, а также тоже самое только по тем, кто совершил покупку"
   ]
  },
  {
   "cell_type": "code",
   "execution_count": 40,
   "metadata": {},
   "outputs": [
    {
     "data": {
      "image/png": "[encoded data removed]",
      "text/plain": [
       "<Figure size 1440x504 with 1 Axes>"
      ]
     },
     "metadata": {},
     "output_type": "display_data"
    }
   ],
   "source": [
    "ax = sns.histplot(df['revenue'], stat = 'probability')\n",
    "ax.set_xlabel('Деньги')\n",
    "ax.set_ylabel('Процент')\n",
    "ax.set_title('Распределение денег без разбивки на группы')\n",
    "sns.despine()"
   ]
  },
  {
   "cell_type": "code",
   "execution_count": 41,
   "metadata": {},
   "outputs": [
    {
     "data": {
      "image/png": "[encoded data removed]",
      "text/plain": [
       "<Figure size 1440x504 with 1 Axes>"
      ]
     },
     "metadata": {},
     "output_type": "display_data"
    }
   ],
   "source": [
    "ax1 = sns.histplot(df.query('testgroup == \"a\"')['revenue'], stat = 'probability')\n",
    "ax1.set_xlabel('Деньги')\n",
    "ax1.set_ylabel('Процент')\n",
    "ax1.set_title('Распределение денег группы А')\n",
    "sns.despine()"
   ]
  },
  {
   "cell_type": "code",
   "execution_count": 42,
   "metadata": {},
   "outputs": [
    {
     "data": {
      "image/png": "[encoded data removed]",
      "text/plain": [
       "<Figure size 1440x504 with 1 Axes>"
      ]
     },
     "metadata": {},
     "output_type": "display_data"
    }
   ],
   "source": [
    "ax2= sns.histplot(df.query('testgroup == \"b\"')['revenue'], stat = 'probability')\n",
    "ax2.set_xlabel('Деньги')\n",
    "ax2.set_ylabel('Процент')\n",
    "ax2.set_title('Распределение денег группы B')\n",
    "sns.despine()"
   ]
  },
  {
   "cell_type": "markdown",
   "metadata": {},
   "source": [
    "Видим, что у группы А в распределении денег очень длинный хвост, тогда как у b - гораздо короче"
   ]
  },
  {
   "cell_type": "code",
   "execution_count": 43,
   "metadata": {},
   "outputs": [
    {
     "data": {
      "image/png": "[encoded data removed]",
      "text/plain": [
       "<Figure size 1440x504 with 1 Axes>"
      ]
     },
     "metadata": {},
     "output_type": "display_data"
    }
   ],
   "source": [
    "ax = sns.histplot(df.query('revenue > 0')['revenue'], stat = 'probability')\n",
    "ax.set_xlabel('Деньги')\n",
    "ax.set_ylabel('Процент')\n",
    "ax.set_title('Распределение денег > 0 без разбивки на группы')\n",
    "sns.despine()"
   ]
  },
  {
   "cell_type": "code",
   "execution_count": 44,
   "metadata": {},
   "outputs": [
    {
     "data": {
      "image/png": "[encoded data removed]",
      "text/plain": [
       "<Figure size 1440x504 with 1 Axes>"
      ]
     },
     "metadata": {},
     "output_type": "display_data"
    }
   ],
   "source": [
    "ax = sns.histplot(df.query('revenue > 0 and testgroup == \"a\"')['revenue'], stat = 'probability')\n",
    "ax.set_xlabel('Деньги')\n",
    "ax.set_ylabel('Процент')\n",
    "ax.set_title('Распределение денег > 0 в разбивке по группе А')\n",
    "sns.despine()"
   ]
  },
  {
   "cell_type": "code",
   "execution_count": 45,
   "metadata": {},
   "outputs": [
    {
     "data": {
      "image/png": "[encoded data removed]",
      "text/plain": [
       "<Figure size 1440x504 with 1 Axes>"
      ]
     },
     "metadata": {},
     "output_type": "display_data"
    }
   ],
   "source": [
    "# похоже на равномерное распределение\n",
    "ax = sns.histplot(df.query('revenue > 0 and testgroup == \"b\"')['revenue'], stat = 'probability')\n",
    "ax.set_xlabel('Деньги')\n",
    "ax.set_ylabel('Процент')\n",
    "ax.set_title('Распределение денег > 0 в разбивке по группе B')\n",
    "sns.despine()"
   ]
  },
  {
   "cell_type": "markdown",
   "metadata": {},
   "source": [
    "Также построим боксплоты (с фильтром revenue > 0)"
   ]
  },
  {
   "cell_type": "code",
   "execution_count": 46,
   "metadata": {},
   "outputs": [
    {
     "name": "stderr",
     "output_type": "stream",
     "text": [
      "/opt/tljh/user/lib/python3.7/site-packages/seaborn/_decorators.py:43: FutureWarning: Pass the following variable as a keyword arg: x. From version 0.12, the only valid positional argument will be `data`, and passing other arguments without an explicit keyword will result in an error or misinterpretation.\n",
      "  FutureWarning\n"
     ]
    },
    {
     "data": {
      "text/plain": [
       "<matplotlib.axes._subplots.AxesSubplot at 0x7f868c797240>"
      ]
     },
     "execution_count": 46,
     "metadata": {},
     "output_type": "execute_result"
    },
    {
     "data": {
      "image/png": "[encoded data removed]",
      "text/plain": [
       "<Figure size 1440x504 with 1 Axes>"
      ]
     },
     "metadata": {},
     "output_type": "display_data"
    }
   ],
   "source": [
    "sns.boxplot(df.query('revenue > 0 and testgroup == \"a\"')['revenue'])"
   ]
  },
  {
   "cell_type": "code",
   "execution_count": 47,
   "metadata": {},
   "outputs": [
    {
     "name": "stderr",
     "output_type": "stream",
     "text": [
      "/opt/tljh/user/lib/python3.7/site-packages/seaborn/_decorators.py:43: FutureWarning: Pass the following variable as a keyword arg: x. From version 0.12, the only valid positional argument will be `data`, and passing other arguments without an explicit keyword will result in an error or misinterpretation.\n",
      "  FutureWarning\n"
     ]
    },
    {
     "data": {
      "text/plain": [
       "<matplotlib.axes._subplots.AxesSubplot at 0x7f868b25e6d8>"
      ]
     },
     "execution_count": 47,
     "metadata": {},
     "output_type": "execute_result"
    },
    {
     "data": {
      "image/png": "[encoded data removed]",
      "text/plain": [
       "<Figure size 1440x504 with 1 Axes>"
      ]
     },
     "metadata": {},
     "output_type": "display_data"
    }
   ],
   "source": [
    "sns.boxplot(df.query('revenue > 0 and testgroup == \"b\"')['revenue'])"
   ]
  },
  {
   "cell_type": "code",
   "execution_count": 48,
   "metadata": {},
   "outputs": [
    {
     "data": {
      "text/plain": [
       "<matplotlib.axes._subplots.AxesSubplot at 0x7f868b13c198>"
      ]
     },
     "execution_count": 48,
     "metadata": {},
     "output_type": "execute_result"
    },
    {
     "data": {
      "image/png": "[encoded data removed]",
      "text/plain": [
       "<Figure size 1440x504 with 1 Axes>"
      ]
     },
     "metadata": {},
     "output_type": "display_data"
    }
   ],
   "source": [
    " sns.boxplot(x=\"testgroup\", y=\"revenue\", data=df.query('revenue > 0'))"
   ]
  },
  {
   "cell_type": "markdown",
   "metadata": {},
   "source": [
    "По графикам видим, что в группе А огромный выброс. Проверим и подумаем, что с этим можно сделать"
   ]
  },
  {
   "cell_type": "code",
   "execution_count": 49,
   "metadata": {},
   "outputs": [
    {
     "data": {
      "text/plain": [
       "123"
      ]
     },
     "execution_count": 49,
     "metadata": {},
     "output_type": "execute_result"
    }
   ],
   "source": [
    "df.query('testgroup == \"a\" and revenue > 5000')[['revenue']].sort_values('revenue', ascending = False).shape[0]"
   ]
  },
  {
   "cell_type": "markdown",
   "metadata": {},
   "source": [
    "### Вывод: я предполагал, что у нас всего один выброс, но их 123 и это уже нельзя объяснить простым совпадением. Я не стану исключать строки с revenue > 37к при расчете метрик"
   ]
  },
  {
   "cell_type": "markdown",
   "metadata": {},
   "source": [
    "### В качестве рассматриваемых метрик выберем ARPU и ARPPU. Но для начала также рассмотрим возможность провести A/B тест на  CR\n",
    "### Мы не можем просто посчитать, например, что нам выгоднее, больше CR, но меньше ARPU при таком соотношении или меньше CR, но больше ARPU, поскольку данные результаты могли быть случайными. Для начала подтвердим, что различия в ряде метрик между группами стат. значимы."
   ]
  },
  {
   "cell_type": "markdown",
   "metadata": {},
   "source": [
    "начнем с CR. По-хорошему, до проведения эксперимента нужно определить, какую минимальную разницу мы хотим зафиксировать, с какой мощностью (power), каким уровнем значимости и расчитать, какая должна быть выборка. Но далее мы сами определелим данные критерии, а сейчас посчитаем получившийся CR"
   ]
  },
  {
   "cell_type": "code",
   "execution_count": 50,
   "metadata": {},
   "outputs": [
    {
     "name": "stdout",
     "output_type": "stream",
     "text": [
      "конверсия в группе А:  0.009539690157988749\n",
      "конверсия в группе В:  0.008906235351586593\n",
      "разница в конверсиях с преимуществом группы А : 0.0006334548064021554\n"
     ]
    }
   ],
   "source": [
    "# CR в группах\n",
    "print('конверсия в группе А: ',len(df.query('testgroup == \"a\" and revenue != 0'))/len(df.query('testgroup == \"a\"')))\n",
    "print('конверсия в группе В: ',len(df.query('testgroup == \"b\" and revenue != 0'))/len(df.query('testgroup == \"b\"')))\n",
    "print('разница в конверсиях с преимуществом группы А :', len(df.query('testgroup == \"a\" and revenue != 0'))/len(df.query('testgroup == \"a\"')) - len(df.query('testgroup == \"b\" and revenue != 0'))/len(df.query('testgroup == \"b\"')))"
   ]
  },
  {
   "cell_type": "markdown",
   "metadata": {},
   "source": [
    "Посчитаем, какая нам нужна минимальная выборка при power = 80%, alpha = 5% при меющихся CR\n",
    "Вывод: что бы задетектить такие незначительные изменения, нужна слишком большая выборка (минимум по 357871 человек в каждой группе - у нас данные по 202 тысячи"
   ]
  },
  {
   "cell_type": "code",
   "execution_count": 51,
   "metadata": {},
   "outputs": [
    {
     "data": {
      "text/plain": [
       "357871.2747378369"
      ]
     },
     "execution_count": 51,
     "metadata": {},
     "output_type": "execute_result"
    }
   ],
   "source": [
    "es = sms.proportion_effectsize(0.009539, 0.008906)\n",
    "sms.NormalIndPower().solve_power(es, power=0.80, alpha=0.05, ratio=1)"
   ]
  },
  {
   "cell_type": "markdown",
   "metadata": {},
   "source": [
    "Подберем результат, который нас устраивает при заданных параметрах и выборке:  \n",
    "Вывод: Примерно такой уровень значимости нужен (20.59%) , что бы при заданной мощности при таких результатах CR в двух группах и при такой выборке обнарушить стат. значимые изменения. Считаю, что сравнение  CR в данном случае смысла не имеет"
   ]
  },
  {
   "cell_type": "code",
   "execution_count": 52,
   "metadata": {},
   "outputs": [
    {
     "data": {
      "text/plain": [
       "202072.40168308618"
      ]
     },
     "execution_count": 52,
     "metadata": {},
     "output_type": "execute_result"
    }
   ],
   "source": [
    "es = sms.proportion_effectsize(0.009539, 0.008906)\n",
    "sms.NormalIndPower().solve_power(es, power=0.8, alpha=0.2059, ratio=1)"
   ]
  },
  {
   "cell_type": "markdown",
   "metadata": {},
   "source": [
    "Проведем тест хи-квадрат пирсона, но опираться на CR все равно не будем из-за ранее изложенных причин"
   ]
  },
  {
   "cell_type": "code",
   "execution_count": 53,
   "metadata": {},
   "outputs": [
    {
     "name": "stdout",
     "output_type": "stream",
     "text": [
      "chisq-statistic=4.3747, p-value=0.03648, df=1 expected=[[  1863.89924896 200239.10075104]\n",
      " [  1869.10075104 200797.89924896]]\n"
     ]
    }
   ],
   "source": [
    "for_CR = np.array([[len(df.query('testgroup == \"a\" and revenue != 0')),\\\n",
    "                   len(df.query('testgroup == \"a\"')) - len(df.query('testgroup == \"a\" and revenue != 0'))],\\\n",
    "                   [len(df.query('testgroup == \"b\" and revenue != 0')),\\\n",
    "                   len(df.query('testgroup == \"b\"')) - len(df.query('testgroup == \"b\" and revenue != 0'))]]) \n",
    "\n",
    "CR_chi2_contingency = chi2_contingency(for_CR)\n",
    "print('chisq-statistic=%.4f, p-value=%.5f, df=%i expected=%s'%CR_chi2_contingency)"
   ]
  },
  {
   "cell_type": "markdown",
   "metadata": {},
   "source": [
    "### Проверять двумя тестами одну и ту же метрику нельзя, но раз мы все равно решили, что размера выборки у нас не достаточно для корректного эксперимента по CR,  покажу еще один тест для обнаружения стат. значимых имзенений CR"
   ]
  },
  {
   "cell_type": "code",
   "execution_count": 54,
   "metadata": {},
   "outputs": [
    {
     "data": {
      "text/plain": [
       "0.035028524642854865"
      ]
     },
     "execution_count": 54,
     "metadata": {},
     "output_type": "execute_result"
    }
   ],
   "source": [
    "proportions_ztest([len(df.query('testgroup == \"a\" and revenue != 0')), \n",
    "                   len(df.query('testgroup == \"b\" and revenue != 0'))], \n",
    "                  [len(df.query('testgroup == \"a\"')), \n",
    "                   len(df.query('testgroup == \"b\"'))], \n",
    "                  alternative = 'two-sided')[1]"
   ]
  },
  {
   "cell_type": "markdown",
   "metadata": {},
   "source": [
    "### Вывод по CR: данный A/B тест лучше не проводить, т.к выборка слишком мала для того, что бы с приемлемой мощностью и уровнем значимости проверять обнаружить разницу в (возьмем получившийся пример) 0.06% - это очень маленькая разница, которую возможно обнаружить только при еще бОльшей выборке"
   ]
  },
  {
   "cell_type": "markdown",
   "metadata": {},
   "source": [
    "Для ARPU проведем T-test. В данном случае выборка и различие в средних достаточны, что бы мы могли применить данный тест, несмотря на то, что явно распределение ненормально. H0 - средние двух групп стат. значимо не отличаются. H1 - средние двух групп стат. значимо отличаются. Уровень значимости (alpha) - 5% (0.05)."
   ]
  },
  {
   "cell_type": "code",
   "execution_count": 55,
   "metadata": {},
   "outputs": [
    {
     "name": "stderr",
     "output_type": "stream",
     "text": [
      "/opt/tljh/user/lib/python3.7/site-packages/scipy/stats/morestats.py:1760: UserWarning: p-value may not be accurate for N > 5000.\n",
      "  warnings.warn(\"p-value may not be accurate for N > 5000.\")\n"
     ]
    },
    {
     "data": {
      "text/plain": [
       "ShapiroResult(statistic=0.008891761302947998, pvalue=0.0)"
      ]
     },
     "execution_count": 55,
     "metadata": {},
     "output_type": "execute_result"
    }
   ],
   "source": [
    "stats.shapiro(df[df['testgroup'] == 'a']['revenue'].sample(200000, random_state=17))\n",
    " \n",
    "                                         # распределение не нормально, т.к H0- распределение нормально, а мы принимаем H1 \n",
    "                                         # при n > 5000 рекомендовано делать сэмплы"
   ]
  },
  {
   "cell_type": "code",
   "execution_count": 56,
   "metadata": {},
   "outputs": [
    {
     "data": {
      "text/plain": [
       "ShapiroResult(statistic=0.06587332487106323, pvalue=0.0)"
      ]
     },
     "execution_count": 56,
     "metadata": {},
     "output_type": "execute_result"
    }
   ],
   "source": [
    "stats.shapiro(df[df['testgroup'] == 'b']['revenue'].sample(200000, random_state=17)) \n",
    "# распределение не нормально, т.к H0- распределение нормально, а мы принимаем H1"
   ]
  },
  {
   "cell_type": "markdown",
   "metadata": {},
   "source": [
    "Проведем T-test для определения стат. значимости различий ARPU"
   ]
  },
  {
   "cell_type": "code",
   "execution_count": 57,
   "metadata": {},
   "outputs": [
    {
     "data": {
      "text/plain": [
       "Ttest_indResult(statistic=-0.6242026493616787, pvalue=0.532494858971837)"
      ]
     },
     "execution_count": 57,
     "metadata": {},
     "output_type": "execute_result"
    }
   ],
   "source": [
    "stats.ttest_ind(df.query('testgroup == \"a\"').revenue, df.query('testgroup == \"b\"').revenue, alternative = 'two-sided')"
   ]
  },
  {
   "cell_type": "markdown",
   "metadata": {},
   "source": [
    "### Вывод по ARPU - средние стат. значимо не отличаются (принимаем H0), т.к вероятность получение таких  различий при верности H0 = 53%, что больше 5%, ниже которых мы бы уже отвергали H0"
   ]
  },
  {
   "cell_type": "markdown",
   "metadata": {},
   "source": [
    "Теперь проведем A/B тест с ARPPU. H0 - средние двух групп (только среди совершивших покупку) стат. значимо не отличаются. H1 - средние двух групп (только среди совершивших покупку) стат. значимо отличаются. Уровень значимости (alpha) - 5% (0.05)"
   ]
  },
  {
   "cell_type": "code",
   "execution_count": 58,
   "metadata": {},
   "outputs": [],
   "source": [
    "def get_bootstrap(\n",
    "    data_column_1, # числовые значения первой выборки\n",
    "    data_column_2, # числовые значения второй выборки\n",
    "    boot_it = 2500, # количество бутстрэп-подвыборок\n",
    "    statistic = np.mean, # интересующая нас статистика\n",
    "    bootstrap_conf_level = 0.95 # уровень значимости\n",
    "):\n",
    "    boot_len = max([len(data_column_1), len(data_column_2)])\n",
    "    boot_data = []\n",
    "    for i in tqdm(range(boot_it)): # извлекаем подвыборки\n",
    "        samples_1 = data_column_1.sample(\n",
    "            boot_len, \n",
    "            replace = True # параметр возвращения\n",
    "        ).values\n",
    "        \n",
    "        samples_2 = data_column_2.sample(\n",
    "            boot_len, # чтобы сохранить дисперсию, берем такой же размер выборки\n",
    "            replace = True\n",
    "        ).values\n",
    "        \n",
    "        boot_data.append(statistic(samples_1-samples_2)) \n",
    "    pd_boot_data = pd.DataFrame(boot_data)\n",
    "        \n",
    "    left_quant = (1 - bootstrap_conf_level)/2\n",
    "    right_quant = 1 - (1 - bootstrap_conf_level) / 2\n",
    "    quants = pd_boot_data.quantile([left_quant, right_quant])\n",
    "        \n",
    "    p_1 = norm.cdf(\n",
    "        x = 0, \n",
    "        loc = np.mean(boot_data), \n",
    "        scale = np.std(boot_data)\n",
    "    )\n",
    "    p_2 = norm.cdf(\n",
    "        x = 0, \n",
    "        loc = -np.mean(boot_data), \n",
    "        scale = np.std(boot_data)\n",
    "    )\n",
    "    p_value = min(p_1, p_2) * 2\n",
    "        \n",
    "    # Визуализация\n",
    "    _, _, bars = plt.hist(pd_boot_data[0], bins = 50)\n",
    "    for bar in bars:\n",
    "        if abs(bar.get_x()) <= quants.iloc[0][0] or abs(bar.get_x()) >= quants.iloc[1][0]:\n",
    "            bar.set_facecolor('red')\n",
    "        else: \n",
    "            bar.set_facecolor('grey')\n",
    "            bar.set_edgecolor('black')\n",
    "    \n",
    "    plt.style.use('ggplot')\n",
    "    plt.vlines(quants,ymin=0,ymax=50,linestyle='--')\n",
    "    plt.title(\"Histogram of boot_data\")\n",
    "    plt.show()\n",
    "       \n",
    "    return {\"boot_data\": boot_data, \n",
    "            \"quants\": quants, \n",
    "            \"p_value\": p_value}"
   ]
  },
  {
   "cell_type": "code",
   "execution_count": 59,
   "metadata": {},
   "outputs": [
    {
     "data": {
      "application/vnd.jupyter.widget-view+json": {
       "model_id": "f937e3951d7b4979a2553497744b85c9",
       "version_major": 2,
       "version_minor": 0
      },
      "text/plain": [
       "HBox(children=(FloatProgress(value=0.0, max=2500.0), HTML(value='')))"
      ]
     },
     "metadata": {},
     "output_type": "display_data"
    },
    {
     "name": "stdout",
     "output_type": "stream",
     "text": [
      "\n"
     ]
    },
    {
     "data": {
      "image/png": "[encoded data removed]",
      "text/plain": [
       "<Figure size 1440x504 with 1 Axes>"
      ]
     },
     "metadata": {},
     "output_type": "display_data"
    },
    {
     "data": {
      "text/plain": [
       "0.10108866205467988"
      ]
     },
     "execution_count": 59,
     "metadata": {},
     "output_type": "execute_result"
    }
   ],
   "source": [
    "ARPPU_mean = get_bootstrap(df.query('testgroup == \"a\" and revenue > 0')['revenue'], \n",
    "                           df.query('testgroup == \"b\" and revenue > 0')['revenue'])\n",
    "ARPPU_mean['p_value']"
   ]
  },
  {
   "cell_type": "markdown",
   "metadata": {},
   "source": [
    "### Принимаем H0 - ARPPU стат. значимо не отличается. Вероятность получения таких различий при верности H0 составляет 10% - не можем отвергнуть H0"
   ]
  },
  {
   "cell_type": "markdown",
   "metadata": {},
   "source": [
    "Поскольку по основным метрикам сделать вывод не получается (не смогли доказатьс стат. значимое изменение ARPU, ARPPU, а для CR и наблюдаемой разницы слишком маленькая выборка), посмотрим на различия в данных"
   ]
  },
  {
   "cell_type": "code",
   "execution_count": 60,
   "metadata": {},
   "outputs": [],
   "source": [
    "df_a = df.query('testgroup == \"a\" and revenue > 0').copy()\n",
    "df_b = df.query('testgroup == \"b\" and revenue > 0').copy()"
   ]
  },
  {
   "cell_type": "code",
   "execution_count": 61,
   "metadata": {},
   "outputs": [
    {
     "data": {
      "text/plain": [
       "count     1928.000000\n",
       "mean      2663.998444\n",
       "std       9049.039763\n",
       "min        200.000000\n",
       "25%        257.000000\n",
       "50%        311.000000\n",
       "75%        361.000000\n",
       "max      37433.000000\n",
       "Name: revenue, dtype: float64"
      ]
     },
     "execution_count": 61,
     "metadata": {},
     "output_type": "execute_result"
    }
   ],
   "source": [
    "df_a.revenue.describe()"
   ]
  },
  {
   "cell_type": "code",
   "execution_count": 62,
   "metadata": {},
   "outputs": [
    {
     "data": {
      "text/plain": [
       "count    1805.000000\n",
       "mean     3003.658172\n",
       "std       572.619709\n",
       "min      2000.000000\n",
       "25%      2513.000000\n",
       "50%      3022.000000\n",
       "75%      3478.000000\n",
       "max      4000.000000\n",
       "Name: revenue, dtype: float64"
      ]
     },
     "execution_count": 62,
     "metadata": {},
     "output_type": "execute_result"
    }
   ],
   "source": [
    "df_b.revenue.describe()"
   ]
  },
  {
   "cell_type": "code",
   "execution_count": 63,
   "metadata": {},
   "outputs": [
    {
     "data": {
      "text/plain": [
       "37293"
      ]
     },
     "execution_count": 63,
     "metadata": {},
     "output_type": "execute_result"
    }
   ],
   "source": [
    "df_a.query('revenue > 30000').revenue.min()"
   ]
  },
  {
   "cell_type": "markdown",
   "metadata": {},
   "source": [
    "qcut(и с duplicates = 'drop') и cut по умолчанию в данном случае работают некорректно. Я самостоятельно присвою разбивку"
   ]
  },
  {
   "cell_type": "code",
   "execution_count": 64,
   "metadata": {},
   "outputs": [],
   "source": [
    "df_a['revenue_bins'] = pd.cut(df.revenue, [200, 257, 311, 361, 400, 37292, 37433])\n",
    "df_b['revenue_bins'] = pd.cut(df.revenue, [2000, 2513, 3022, 3478, 4000])"
   ]
  },
  {
   "cell_type": "code",
   "execution_count": 65,
   "metadata": {},
   "outputs": [
    {
     "data": {
      "text/plain": [
       "(311, 361]        481\n",
       "(257, 311]        480\n",
       "(200, 257]        478\n",
       "(361, 400]        358\n",
       "(37292, 37433]    123\n",
       "(400, 37292]        0\n",
       "Name: revenue_bins, dtype: int64"
      ]
     },
     "execution_count": 65,
     "metadata": {},
     "output_type": "execute_result"
    }
   ],
   "source": [
    "df_a.revenue_bins.value_counts()"
   ]
  },
  {
   "cell_type": "code",
   "execution_count": 66,
   "metadata": {},
   "outputs": [
    {
     "data": {
      "text/plain": [
       "(2000, 2513]    453\n",
       "(3478, 4000]    451\n",
       "(3022, 3478]    451\n",
       "(2513, 3022]    449\n",
       "Name: revenue_bins, dtype: int64"
      ]
     },
     "execution_count": 66,
     "metadata": {},
     "output_type": "execute_result"
    }
   ],
   "source": [
    "df_b.revenue_bins.value_counts()"
   ]
  },
  {
   "cell_type": "markdown",
   "metadata": {},
   "source": [
    "### Несмотря на то, что CR показал стат. значимые различия, результатам данного теста доверять не следует, поскольку, что бы обнаружить столь малые отличия в CR понадобилась бы бОльшая выборка. При этом ARPU и ARPPU не показали стат. значимых различий при уровне значимости 0.05\n",
    "\n",
    "### Однако, если исключить A/B тесты, мы заметили, что в группе А пользователи чаще делают покупки на 200-400 у.е., но при этом есть целых 123 человка (из 1928), которые купили на аномально большие суммы - от 37292 у.е. до 37433 у.е. В тестовой группе все более стабильно. Медиана более чем в 10 раз больше чем медиана контрольной группы, значения варьируются от 2000 до 4000 тысяч и сами группы, на которые мы разделили значения (используя процентили) примерно равны.\n",
    "\n",
    "### Вывод: учитывая, что стат. значимое изменение ARPU и ARPPU не зафиксировано, а тест по CR невозможен с текущей выборкой,  буду исходить из того, что в ключевых показателях разница не доказана. Остается определить, что важнее:   акционная система (контрольная), при которой большинство пользователей будут платить сравнительно мало, но при этом будет небольшой процент тех, кто огромными покупками окупит всю акционную систему, либо акционная система (тестовая), при которой у нас не предвидится аномально больших покупок одним пользователем, но при этом каждый тратит сильно больше нижних и даже верхних значений (если не брать траты > 37к) контрольной группы.\n",
    "\n",
    "### У нас недостаточно данных, что бы объективно выбрать одну из акционных систем, нужно смотреть на длительность акции, жизненный цикл продукта и пр. Однако, именно на уровне интуиции мне больше импонируют результаты в тестовой группе, т.к невольно возникает аналогия с экономической системой, где большой средний класс и небольшое экономическое расслоение и система, где подавляющее большинство бедные, но есть сверхбогатые, без среднего класса. Первая экономическая система обычно более устойчивая и имеет больше перспектив.\n",
    "\n",
    "### При выполнении задания я исходил из репрезентативости выборки."
   ]
  },
  {
   "cell_type": "code",
   "execution_count": null,
   "metadata": {},
   "outputs": [],
   "source": []
  },
  {
   "cell_type": "markdown",
   "metadata": {},
   "source": [
    "## Задание 3\n",
    "## А) В игре Plants & Gardens каждый месяц проводятся тематические события, ограниченные по времени. В них игроки могут получить уникальные предметы для сада и персонажей, дополнительные монеты или бонусы. Для получения награды требуется пройти ряд уровней за определенное время. С помощью каких метрик можно оценить результаты последнего прошедшего события?\n",
    "\n",
    "## Б) Предположим, в другом событии мы усложнили механику событий так, что при каждой неудачной попытке выполнения уровня игрок будет откатываться на несколько уровней назад. Изменится ли набор метрик оценки результата? Если да, то как?"
   ]
  },
  {
   "cell_type": "markdown",
   "metadata": {},
   "source": [
    "А)  \n",
    "1) DAU/WAU - количество уникальных пользователей, зашедших в приложение за сутки/неделю. Учитывая, что прохождение события дает бонусы, рассчитываем на увеличение данного показателя  \n",
    "2) CR_1 - отношение тех (уникальных пользователей), кто зашел в событие к тем, кто зашел в приложение. Так мы увидим заинтересованность пользователей к событию. Важно оценить, насколько пользователю интересно само событие.     \n",
    "3) СR_2 - отношение тех (уникальных пользователей), кто не прошел ни один уровень/прошел \"N\" уровень/ прошел все к тем, кто участвовал в событии. Важно оценить, на каком этапе пользователи перестают проходить события: вдруг уровень слишком сложен или бонусы в конце не интересны. Если уровни слишком сложные и время сильно ограничено, можно предложить за деньги дать дополнительное время.  \n",
    "4) CR_3 - отношение тех (уникальных пользователей), которые зашли в  течение недели в приложение после события ко всем уникальным пользователям. Данную метрику можно сравнить с тем, что было за неделю до события, возможно провести A/B тест, что бы посмотреть, как событие влияет на посещение приложения после события.  \n",
    "5) Сколько раз в среднем за время проведения события заходят пользователи, после завершения всех уровней, но в период действия события. Тут нам интересно посмотреть, интересовало ли пользователей только не пропустить бонусы, или им в целом интересна игра сама по себе.  \n",
    "6) За сколько сессий в среднем пользователь завершает событие (из завершивших событие пользователей). Здесь нам интересно количество сессий, которое в среднем нужно пользователям для завершения событий - так мы сможем оценить вовлеченность игроков в событие и сколько времени они могли бы при желании тратить на игру вне события.  \n",
    "7) ASD - cреднее время сессии за период. Здесь нам интересно посмотреть не только среднее время сессии в собитии, но и среднее время сессии в период события, как в самом событии, так и в целом в приложении.  \n",
    "8) Retention rate - отношение вернувшихся в приложение пользователей к числу установивших его в определенную дату. Можно проверить, как событие влияет на retention rate.  \n",
    "9) Churn rate - отток клиентов. Можно рассчитывать по-разному. Думаю, интереснее рассматривать данную метрику будет после завершения события.  \n",
    "10) ARPU/ARPPU/ATV  (за период проведения события) поскольку мы проводим событие, то оно так или иначе должно стимулировать либо мгновенный рост прибыли, либо увеличение других метрик за счет события и как итог - увеличение прибыли в последствие. Если данное событие дает игроку бонусы, которые он мог приобрести за деньги, то скорее всего одномоментно в деньгах компания потеряет (особенно если нет возможности платно продлевать возможнео время прохождения события или уровни легко пройти за указанное время и продление времени - не популярная позиция), но при этом за счет удержания пользователей в ближайшей перспективе прибыль должна увеличиться и покрыть \"издержки\" события.  \n",
    "\n",
    "Важно смотреть на изменение метрик не только во время события, но и до и после события.  \n",
    "\n",
    "Б) Я считаю, что набор метрик менять не нужно, но при этом не вижу смысл вводить указанное изменение. Оно лишь будет раздражать игроков, если при этом не будут повторены бонусы за уровень. А если будут - это стимул специально \"заваливать\" уровни для отката на уровень ниже и  бОльшей выгоды за счет повтора бонусов с уже пройденного ранее уровня. При этом, если бонусы не будут повторяться, то можно предложить попытку без отката за небольшую сумму, т.к  мы все равно готовы дать игроку указанные бонусы, почему бы на этом немного не заработать?  \n",
    "Особое внимание при введении данного изменения я бы обратил на retention rate, churn rate, на метрики из п. 2,3,4, т.к данная мера, как я ранее заявлял, на мой взгляд является лишь раздражителем , т.к проходить одни и те же уровни скучно (тем более без новых бонусов). Если вводить данную меру, то с возможностью за небольшую плату не откатываться на прошлые уровни.\n",
    "\n"
   ]
  },
  {
   "cell_type": "code",
   "execution_count": null,
   "metadata": {},
   "outputs": [],
   "source": []
  }
 ],
 "metadata": {
  "kernelspec": {
   "display_name": "Python 3",
   "language": "python",
   "name": "python3"
  },
  "language_info": {
   "codemirror_mode": {
    "name": "ipython",
    "version": 3
   },
   "file_extension": ".py",
   "mimetype": "text/x-python",
   "name": "python",
   "nbconvert_exporter": "python",
   "pygments_lexer": "ipython3",
   "version": "3.7.3"
  }
 },
 "nbformat": 4,
 "nbformat_minor": 4
}
